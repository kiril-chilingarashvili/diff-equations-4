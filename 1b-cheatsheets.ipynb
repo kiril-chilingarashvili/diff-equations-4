{
 "cells": [
  {
   "cell_type": "markdown",
   "id": "bddbe9a9-af85-4450-9a7a-2599f1163a32",
   "metadata": {},
   "source": [
    "# Unit 1: Review Differential Equations, Part b"
   ]
  },
  {
   "cell_type": "markdown",
   "id": "e4794297-ba70-417c-840a-f5da54a66c33",
   "metadata": {},
   "source": [
    "## L2.3. Simple RLC Circuits."
   ]
  },
  {
   "cell_type": "markdown",
   "id": "79bb9002-82f3-420d-8307-e20f8994f6c5",
   "metadata": {},
   "source": [
    "### A very simple passive AM radio receiver may be modeled by the following circuit.\n",
    "![img](img/circuit-1.png)\n",
    "\n",
    "### The power source at left is the antenna, being driven by radio waves. The resistor at top is a speaker. The other components are a capacitor, at bottom, and an inductance coil, at right.\n",
    "\n",
    "### We will model this circuit using the same five-step process we used for mechanical systems in Lecture 1.\n",
    "\n",
    "### 1. ***Draw a diagram of the system***. We've already done Step 1!\n",
    "\n",
    "### 2. ***Identify and give symbols for the parameters of the system***. The diagram shows symbols for four standard electronic components. The first step in understanding the diagram is to define an orientation; say that current flows clockwise. Since it's a series circuit, the current through any of the wires is the same; write $I(t)$ for it. Then we can say that the power source, at left, produces a voltage ***increase*** of $V(t)$ volts at time $t$. This voltage increase may vary with time, and may be negative as well as positive. In fact we'll be especially interested in the case in which it is sinusoidal!\n",
    "\n",
    "### The meaning of each of the other components is specified by how the voltage decrease across it is related to the current flowing through it. For us, these relationships define the components. The impact of each component is determined by the constant appearing in these relationships.\n",
    "\n",
    "### - Voltage drop across inductor:\t$V_L(t) = L\\dot{I}(t)$.\n",
    "### - Voltage drop across resistor:\t$V_R(t) = R I(t)$.\n",
    "### - Voltage drop across capacitor: $C \\dot{V}_C(t) = I(t)$.\n",
    "\n",
    "### These components are connected in series, and so their voltage drops are related by Kirchhoff's voltage law: The voltage gain across the power source must equal the sum of the voltage drops across the other components:\n",
    "## $$ V = V_L+V_R+V_C $$\n",
    "\n",
    "### 3. ***Declare the input signal and the system response***. The system is being driven by a signal coming in via antenna. This signal causes a voltage difference across the antenna, and it is reasonable to declare this voltage increase $V(t)$ as the input signal. For system response, we are interested in the loudness of the speaker, which is proportional to the voltage drop across the resistor. So we declare $V_R$ to be the system response.\n",
    "### This means that we want to set up a differential equation relating $V(t)$ to $V_R(t)$.\n",
    "\n",
    "### 4. ***Write down a differential equation relating the input signal and the system response, using Newton's “$F=ma$\" in the mechanical case or Kirchhoff's laws in the electrical case***. Because $\\dot{V}_C$ appears in the definition of a capacitor, it is natural to differentiate Kirchhoff's voltage law, and rewrite in terms of $I$;\n",
    "\n",
    "## $$ \\dot{V} = \\dot{V}_L + \\dot{V}_R + \\dot{V}_C = L\\ddot{I}+R\\dot{I}+\\frac{1}{C} I $$\n",
    "\n",
    "### To make this into an equation relating the input signal $V$ to the system response $V_R$, we just have to remember that $V_R = RI$. So multiply through by $R$ and make this substitution, along with its consequences $\\dot{V}_R = R \\dot{I}$ and $\\ddot{V}_R = R\\ddot{I}$:\n",
    "\n",
    "## $$ R\\dot{V} = L\\ddot{V}_R + R V_R + \\frac{1}{C} V_R $$\n",
    "\n",
    "### Rewrite the equation in standard form. Input and output are already separated; to put this in standard form we just swap sides:\n",
    "\n",
    "## $$ L\\ddot{V}_R + R \\dot{V}_R + \\frac{1}{C} V_R = R\\dot{V}  $$\n",
    " \n",
    "### We're done. But before we discuss consequences, recall the equation we discussed in Lecture 1 describing the spring/mass/dashpot system driven through the dashpot:\n",
    "\n",
    "## $$ m\\ddot{x}+b\\dot{x}+kx = b\\dot{y} $$\n",
    " \n",
    "### These two equations are formally identical in the way they relate input and system response. This reflects a rough parallel between mechanical and electrical systems, in which\n",
    "![img](img/table-1.png)\n",
    "\n",
    "### Rather than trying to develop this as a formal equivalence, though, we think it's best to focus on the fact that the mathematics is identical up to change of notation."
   ]
  },
  {
   "cell_type": "markdown",
   "id": "0d431979-339e-41a8-9ce1-b1a4f047bd7e",
   "metadata": {},
   "source": [
    "## L2.4. Frequency response.\n",
    "\n",
    "### ***Circuits as filters***.\n",
    "### Let's now study the model of the AM radio receiver from the previous page.\n",
    "![img](img/circuit-1.png)\n",
    "\n",
    "### The environment is filled with radio waves, electromagnetic oscillations vibrating at different frequencies. For example,\n",
    "### - many cellphones are broadcast at 1900MHz,\n",
    "### - medium range AM radio in the US is broadcast at 540-1600kHz, and\n",
    "### - FM radio is broadcast at 30-300MHz.\n",
    "\n",
    "### The input signal to our system is a variable voltage increase across the antenna that is a superposition of the results of all these radio waves.\n",
    "\n",
    "### Each AM radio station broadcasts in a small “band\" of frequencies centered at a nominal broadcast frequency. Tuning the radio should allow frequencies near this nominal frequency to pass through to the speaker while suppressing all other frequencies.\n",
    "\n",
    "### We want to design our radio receiver so that its system response to the frequency of the radio station we want to listen to is much larger than the response to other frequencies.\n",
    "\n",
    "### In terms of gain, we can say that we want the gain to be greatest for a specific input frequency – call it $\\omega_r$. The range of frequencies that is allowed through with little diminution is called the “pass band\" of the receiver. To ensure that we don't receive interference from unwanted stations, it is desirable to try to arrange that the pass band is narrow enough to effectively suppress the signals arising from other sources.\n",
    "![img](img/bands-1.png)\n",
    "\n",
    "### A mechanism or circuit designed to suppress all frequencies except those near a specified frequency is called a “filter.\" A radio receiver suppresses signals with both higher and lower frequencies, and thus it is called a “mid-pass filter,\" and the range of frequencies it allows through is called the “pass-band.\"\n"
   ]
  },
  {
   "cell_type": "markdown",
   "id": "fdcb50c9-9f64-47c6-af04-58e16e43edab",
   "metadata": {},
   "source": [
    "### ***LTI systems as filters***\n",
    "### Recall that we modeled this AM radio receiver circuit by the differential equation\n",
    "## $$ L\\ddot{V}_R+R\\dot{V}_R+\\frac{1}{C}V_R = R\\dot{V} $$\n",
    "### that is analogous to the associated mechanical system\n",
    "## $$ m\\ddot{x}+b\\dot{x}+kx=b\\dot{y} $$\n",
    "### In Lecture 1 you made some observations about the mechanical system using the Mathlet Amplitude and Phase 2nd Order II. You discovered through the mathlet that the maximum gain of this system (when $m=1$) for any fixed values of $k$ and $b$, is $g=1$; and that this value occurs when $\\displaystyle \\omega=\\omega_r=\\sqrt{\\frac{k}{m}}$, independent of $b$. If we think of this system as an AM radio receiver, the resonant peak is at the frequency we are tuning the radio to. The resonant value is given by\n",
    "## $$ \\omega_r = \\frac{1}{\\sqrt{LC}} $$\n",
    "### and is independent of the resistance $R$. So this is important information: With inductance fixed, you tune the radio by changing the capacitance. The environment is filled with radio waves at a variety of frequencies. The AM receiver responds weakly to most and relatively strongly only to frequencies at or near the resonant frequency.\n",
    "\n",
    "### There's a general lesson here for LTI systems: it's important to be able to visualize the system response to a whole spectrum of different input frequencies. Since we are interested in the sinusoidal system response, we need to specify only two parameters relative to the input frequency to understand this response completely: the gain and the phase lag. These parameters depend upon the input frequency, but not on the input amplitude and not on the phase of the input relative to some standard signal.\n",
    "\n",
    "### The two main tools that we have for visualizing the gain and phase lag as functions of the frequency are the ***Bode Plot*** and the ***Nyquist Plot***. There are two Bode plots, one for gain and one for phase. The horizontal axis for each plot is frequency, one plot shows how the gain depends on the frequency of the input signal, and the other shows how the phase depends on the frequency of the input signal. "
   ]
  },
  {
   "cell_type": "markdown",
   "id": "faad6da5-7248-44e2-85db-2cb3fb449dea",
   "metadata": {},
   "source": [
    "## Bode Plots\n",
    "\n",
    "### Each of the Amplitude and Phase Mathlets allows visualization of plots of the gain and the phase lag as functions of frequency. To see these two graphs on the Mathlet below, check the box marked “Bode plots.\" (Why “Bode\"?) Take a minute now to understand how the Bode plots reflect the behavior of the system. Note that the lower graph plots the phase ***gain*** rather than the ***lag***, that is, $-\\phi$ rather than $\\phi$.\n",
    "\n",
    "### Here are some questions for you to guide your exploration of the Mathlet. Remember, you can change the system parameters $k$ and $b$ using the sliders below the graph. Vary them and confirm your hypothesis that $\\omega_r = \\sqrt{k}$."
   ]
  },
  {
   "cell_type": "code",
   "execution_count": 1,
   "id": "81631c16-1960-4bba-b76a-eebca577a447",
   "metadata": {
    "jupyter": {
     "source_hidden": true
    },
    "tags": []
   },
   "outputs": [
    {
     "data": {
      "text/html": [
       "<iframe width=\"900\" height=\"650\" src=\"https://1803mathlets.netlify.app/ampphasesecondorderii\" frameborder=\"0\" allow=\"accelerometer; autoplay; clipboard-write; encrypted-media; gyroscope; picture-in-picture\" allowfullscreen></iframe>  \n"
      ],
      "text/plain": [
       "<IPython.core.display.HTML object>"
      ]
     },
     "metadata": {},
     "output_type": "display_data"
    }
   ],
   "source": [
    "%%html\n",
    "<iframe width=\"900\" height=\"650\" src=\"https://1803mathlets.netlify.app/ampphasesecondorderii\" frameborder=\"0\" allow=\"accelerometer; autoplay; clipboard-write; encrypted-media; gyroscope; picture-in-picture\" allowfullscreen></iframe>  "
   ]
  },
  {
   "cell_type": "markdown",
   "id": "fa0b09da-06e7-4478-8006-b3e9080d1b57",
   "metadata": {},
   "source": [
    "## Bode Plot - Footnotes\n",
    "\n",
    "### ***Why “Bode\"?*** \n",
    "#### Bode plots are named after Hendrick Wade Bode, 1905–1982. Bode (rhymes with toady) was one of the fathers of modern control theory. For most of his career he worked at Bell Labs. During World War II he devised the feedback mechanism linking radar data to anti-aircraft fire. After the war he occupied high administrative positions at Bell Labs. In 1967 he retired as Vice President in charge of military development and systems engineering, and took up the position of Gordon McKay Professor at Harvard, a post he held till 1974.\n",
    "\n",
    "### Our use of the phrase “Bode plots\" in this course is inaccurate in several respects. First of all, in engineering applications one typically has to cope with a wide range of frequencies. To represent them, one plots the log of the frequency horizontally. Similarly, the gain often spans a wide range of values, and to provide clear visualizations of the gain it is sensible to plot  rather than . So typically the gain Bode plot uses a log-log scale, as shown below.\n",
    "![img](img/bode.png)\n",
    "\n",
    "### The vertical logarithmic scale is often measured in “decibels.\" The decibel measure of gain $g$ is $20 \\log_{10} g$ Db. This can also be written $10 \\log_{10} g^2$, which is of interest since the power of a sinusoidal signal is proportional to the square of its amplitude. Use of these units originated at Bell Labs in the 1920's.\n",
    "\n",
    "### The phase Bode plot uses $\\log \\omega$ horizontally, and $-\\phi$ vertically. No need for a log vertically; after all, in a sense $\\phi$ is already a logarithm – in the complex gain it occurs as $e^{-i\\phi}$.\n",
    "\n",
    "### Even these smooth log-log plots are not quite the thing that Bode introduced. He provided quick and efficient ways to sketch these plots, or piecewise linear approximations of them."
   ]
  },
  {
   "cell_type": "markdown",
   "id": "743c3ff4-14b1-4067-9abb-9924c0d0365b",
   "metadata": {},
   "source": [
    "## The course mascot\n",
    "\n",
    "### As a model of the tuned mass damper we described, we will be using a beautiful small mechanism we jokingly call the mascot for this course. This mechanism was built for use in teaching in the Mechanical Engineering Department here at MIT. We are grateful to Professor David Trumper for letting us use it in this course! And thanks to Jin Young Yoon for supplying the demonstrations and data. [Video](https://edx-video.net/MIT180312016-V012400_DTH.mp4)\n",
    "\n",
    "## Bode plots of the mascot.\n",
    "\n",
    "### How do you get a Bode plot in the real world? One way, is to hit your system with varying input frequencies, and measure the amplitude and phase lag of the system response. That is exactly what we've done here for our very own 4th order system, the mascot.\n",
    "\n",
    "### Here is a reproduction of the plot using a larger number of input frequencies.\n",
    "\n",
    "![img](img/response-1.png)\n",
    "\n",
    "### Notice that the Bode plot exhibits two peaks, that is two different local maxima, and one local minimum between them. The local minimum corresponds to the case where mass 1 stops moving, but the second mass is still moving quite a bit. By the end of the course, you will gain a better understanding of how to construct a system with this Bode plot.\n",
    "\n",
    "### But for now, let's go ahead and take a look at the Bode plot for a system we are much more familiar with, the second order spring mass dashpot. We obtain this system by removing the second mass from the mascot. Take a look at the Bode plot we obtain by hitting the spring mass system with a variety of inputs and measuring the response."
   ]
  },
  {
   "cell_type": "markdown",
   "id": "06c91197-8e8a-4501-81f7-4d6686754b42",
   "metadata": {},
   "source": [
    "### Here is a reproduction of the Bode plot coming from the second order system \n",
    "\n",
    "![img](img/bode-2.png)\n",
    "\n",
    "### As the frequency increases, the amplitude increases until it reaches a maximum value, at which point it decreases again towards zero. Note this plot looks a bit different from what you've seen on the mathlets because the axes are both in log scale."
   ]
  },
  {
   "cell_type": "markdown",
   "id": "bf023579-76db-4cbf-9bf2-cb4b169ab6de",
   "metadata": {},
   "source": [
    "## L2.6. Activity: Spring systems and gain.\n",
    "\n",
    "### Previously we used a mathlet to explore the spring-mass-dashpot system driven through the dashpot. We also discussed the general theory of gain and complex gain. In this activity we will see how this theory works in the specific case of the spring-mass-dashpot system. We start with a summary of gain and complex gain.\n",
    "\n",
    "### ***Summary***:\n",
    "### 1. The complex gain is defined as the complex number such that $G(\\omega) e^{i\\omega t}$ is the exponential system response to input signal $e^{i\\omega t}$.\n",
    "### 2. The gain $g(\\omega)$ is the magnitude of the complex gain $G(\\omega)$:\n",
    "## $$ g(\\omega) = |G(\\omega)| $$\n",
    "### 3. If the system is modeled by\n",
    "## $$ P(D) x = Q(D) y $$\n",
    "### (with input signal $y(t)$ and system response $x(t)$), then\n",
    "## $$ G(\\omega) = \\frac{Q(i\\omega)}{P(i\\omega)} $$\n",
    "### Now you'll apply this to the spring-mass-dashpot system modeled by the differential equation\n",
    "## $$ m\\ddot{x} + b\\dot{x}+kx = b\\dot{y} $$\n",
    "### so\n",
    "## $$ G(\\omega) = \\frac{b i \\omega}{m (i\\omega)^2 + b(i\\omega)+k} = \\frac{b i \\omega}{(k-m\\omega^2) + b i \\omega} $$\n",
    "\n",
    "### Previously we made the following observations about this system using the Mathlet.\n",
    "### 1. The maximum gain is 1, independent of the values of $m, b, k$.\n",
    "### 2. The maximum gain occurs at $\\omega_r = \\sqrt{k/m}$, independent of $b$.\n",
    "### 3. The phase lag at $\\omega = \\omega_r$ is $\\phi(\\omega_r)$, while for $\\omega<\\omega_r$ the phase lag is negative: the system response appears to run ahead of the input signal.\n",
    "### 4. As $b$ decreases, the pass-band narrows."
   ]
  },
  {
   "cell_type": "markdown",
   "id": "329b7076-90b7-4b32-b68f-798ce51b93e7",
   "metadata": {},
   "source": [
    "## L2.7. Resonance.\n",
    "\n",
    "### ***The simple harmonic oscillator***\n",
    "\n",
    "### Let's begin by thinking about the example of an undamped spring system, driven through the spring. Let's begin by thinking about the simple harmonic oscillator, which is modeled by the differential equation\n",
    "## $$ m\\ddot{x}+kx = f(t) $$\n",
    "### Let's look at the response to sinusoidal input to remind ourselves about the definition of pure resonance.\n",
    "\n",
    "### ***Example 7.1***\n",
    "### Find the general solution to the DE: $m\\ddot{x}+kx=A\\cos(\\omega t)$.\n",
    "\n",
    "### ***Answer***: \n",
    "### We do not show all the algebra. ([Derivation](https://kiril-chilingarashvili.github.io/diff-equations-5/2-cheatsheets.html))\n",
    "\n",
    "### Homogeneous solution:\n",
    "## $$ x_h = c_1 \\cos(\\omega_n t) + c_2 \\sin(\\omega_n t) $$\n",
    "### where $\\omega_n = \\sqrt{k/m}$ is the ***natural frequency*** of the oscillator.\n",
    "\n",
    "### Particular solution:\n",
    "## $$ x_p = \\left\\{ \\begin{array} {ccccc} \\displaystyle \\frac{A\\cos(\\omega t)}{|k-m\\omega^2|} & = & \\displaystyle \\frac{A}{m}\\frac{\\cos(\\omega t)}{|\\omega_n^2-\\omega^2|} & & \\text{if}\\, \\omega<\\omega_n \\\\ \\displaystyle \\frac{A\\cos(\\omega t - \\pi)}{|k-m\\omega^2|} & = & \\displaystyle \\frac{-A}{m}\\frac{\\cos(\\omega t)}{|\\omega_n^2-\\omega^2|} & & \\text{if}\\, \\omega>\\omega_n \\\\ \\displaystyle \\frac{A t \\cos(\\omega_n t - \\pi/2)}{2 m \\omega_n} & = & \\displaystyle \\frac{A}{m}\\frac{t \\sin(\\omega_n t)}{2\\omega_n} & & \\text{if}\\,\\omega=\\omega_n \\end{array} \\right. $$\n",
    "### The bottom case ($\\omega=\\omega_n$) requires complex replacement and the extended ERF. You'll see an alternative approach soon.\n",
    "\n",
    "### The general solution (to the inhomogeneous DE) is given by $x=x_p+x_h$. The simple harmonic oscillator may be simple, but it is not stable."
   ]
  },
  {
   "cell_type": "markdown",
   "id": "265761d8-214a-431a-815c-87963b4ef5de",
   "metadata": {},
   "source": [
    "### ***Resonance for the simple harmonic oscillator***\n",
    "### The solution for $x_p$ shows that the gain of the system is given by\n",
    "## $$ g=g(\\omega) = \\frac{1}{m|\\omega_n^2-\\omega^2|} $$\n",
    "### This is a function of $\\omega$ and the right hand plot below shows its graph.\n",
    "\n",
    "### In this case when the input frequency coincides with the natural frequency $\\omega_n$ the system is in what is called ***pure resonance*** and $\\omega_n$ is then called the resonant frequency of the system. When $\\omega=\\omega_n$, we have $\\displaystyle x_p=\\frac{A t \\sin(\\omega_n t)}{2m\\omega_n}$. The left-hand plot below graphs $x_p$ in this case. Notice how the response is oscillatory but not periodic. The factor of $t$ in $x_p$ causes the amplitude to keep growing over time.\n",
    "![img](img/pure-resonance.png)\n"
   ]
  },
  {
   "cell_type": "markdown",
   "id": "5bd5e096-fbe6-4d5b-9cac-adfd47acfaa1",
   "metadata": {},
   "source": [
    "Amplitude response and resonance\n",
    "The gain  is a function of . It tells us the size of the system's response to the given input frequency. The graph of  vs  is one of the Bode plots. In many complex systems, the gain Bode plot can be quite complicated, exhibiting maxima and minima. The maxima occur at frequencies near to some natural frequency of the system, and are called resonant frequencies. In second order systems, there is at most one positive resonant frequency, which we will often denote by .\n",
    "\n",
    "Example 7.2   Consider the spring/mass/dashpot system driven through the spring\n",
    "\n",
    " \n",
    "where we consider  to be the input.\n",
    "\n",
    "Find an expression for  when it exists in terms of system parameters.\n",
    "\n",
    "A hint to get started\n",
    "Find a formula for . Then  is the value where  attains its maximum.\n",
    "\n",
    "The function  is rather complicated; are there simpler functions that have minima or maxima at the same places?\n",
    "\n",
    "Hide\n",
    "\n",
    "Full solution\n",
    "The gain is\n",
    "\n",
    " \n",
    "Finding practical resonance: If it exists the practical resonance frequency  is the frequency where  has a maximum. Now,  has a maximum where the expression under the square root in the denominator\n",
    "\n",
    " \n",
    "has a minimum. Taking the derivative and setting it to 0 we get\n",
    "\n",
    " \n",
    "We find two possible solutions, , and\n",
    "\n",
    " \n",
    "Since the resonant frequency must be real we ignore the case . The second possibility gives a resonant frequency as long as . In conclusion, the resonant frequency for the second order system is\n",
    "\n",
    " \n",
    "Note that, in the damped case , when it exists, .\n",
    "\n",
    "Hide\n",
    "\n",
    "Note that the ratio  has units 1/time; if  then there's no positive resonant frequency. In this case, we say that there is no practical resonance. (Even though the gain is maximized at , we do not consider this to be a resonant frequency.)\n",
    "\n",
    "   \n",
    "(practical resonance)             (no practical resonance)"
   ]
  }
 ],
 "metadata": {
  "kernelspec": {
   "display_name": "Python 3",
   "language": "python",
   "name": "python3"
  },
  "language_info": {
   "codemirror_mode": {
    "name": "ipython",
    "version": 3
   },
   "file_extension": ".py",
   "mimetype": "text/x-python",
   "name": "python",
   "nbconvert_exporter": "python",
   "pygments_lexer": "ipython3",
   "version": "3.8.8"
  }
 },
 "nbformat": 4,
 "nbformat_minor": 5
}
