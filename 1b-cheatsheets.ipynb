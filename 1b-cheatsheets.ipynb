{
 "cells": [
  {
   "cell_type": "markdown",
   "id": "bddbe9a9-af85-4450-9a7a-2599f1163a32",
   "metadata": {},
   "source": [
    "# Unit 1: Review Differential Equations, Part b"
   ]
  },
  {
   "cell_type": "markdown",
   "id": "e4794297-ba70-417c-840a-f5da54a66c33",
   "metadata": {},
   "source": [
    "## L2.3. Simple RLC Circuits."
   ]
  },
  {
   "cell_type": "markdown",
   "id": "79bb9002-82f3-420d-8307-e20f8994f6c5",
   "metadata": {},
   "source": []
  }
 ],
 "metadata": {
  "kernelspec": {
   "display_name": "Python 3",
   "language": "python",
   "name": "python3"
  },
  "language_info": {
   "codemirror_mode": {
    "name": "ipython",
    "version": 3
   },
   "file_extension": ".py",
   "mimetype": "text/x-python",
   "name": "python",
   "nbconvert_exporter": "python",
   "pygments_lexer": "ipython3",
   "version": "3.8.8"
  }
 },
 "nbformat": 4,
 "nbformat_minor": 5
}
