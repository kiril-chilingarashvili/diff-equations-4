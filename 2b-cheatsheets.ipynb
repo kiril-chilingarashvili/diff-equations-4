{
 "cells": [
  {
   "cell_type": "markdown",
   "id": "17f0ff80-8d62-4a12-8b64-fd87d3e2df8c",
   "metadata": {},
   "source": [
    "# Unit 2: Laplace transform, Part b - Application to differential equations"
   ]
  },
  {
   "cell_type": "markdown",
   "id": "937d0454-317a-43fb-880e-dbe1fc357177",
   "metadata": {},
   "source": [
    "## L5.2. Application to differential equations.\n",
    "\n",
    "### The $t$-derivative rule shows that differentiation in the time domain becomes multiplication by $s$ in the frequency domain (up to the annoying initial condition term). This leads to the amazing fact that\n",
    "\n",
    "### ***Fact***: Laplace transform carries differential equations to algebraic equations.\n",
    "\n",
    "### So in using Laplace transform to solve a differential equation, the process is as follows:\n",
    "![img](img/fact.png)\n",
    "\n",
    "### The missing ingredient here is getting back from the $s$-world into the $t$-world. We will do this by using the rules and calculations of the Laplace transform to find $x(t)$ with the desired Laplace transform $X(s)$. To make this work, we need to know the following rule.\n",
    "\n",
    "### ***Inverse rule***. A continuous function $f(t)$ for $t \\geq 0$ is determined by its Laplace transform $F(s)$ (if it exists). We use the notation $\\mathcal{L}^{-1}(F(s);t) = f(t)$ or $\\mathcal{L}^{-1}(F(s)) = f(t)$.\n",
    "\n",
    "### ***Example 2.1***\n",
    "### What function of $t$ has $\\displaystyle \\frac{1}{s-5}$ as its Laplace transform?\n",
    "\n",
    "### ***Solution***: We know that the function $f(t) = e^{5t}$ has $\\displaystyle F(s) = \\frac{1}{s-5}$ as its Laplace transform. Every other continuous function that has this Laplace transform agrees with this one for $t\\geq 5$. We write $\\displaystyle \\mathcal{L}^{-1}\\left( \\frac{1}{s-5} \\right) = e^{5t}$ for $t\\geq 0$."
   ]
  },
  {
   "cell_type": "markdown",
   "id": "35672f25-081a-4a9e-bb23-dbccf1672de3",
   "metadata": {},
   "source": []
  }
 ],
 "metadata": {
  "kernelspec": {
   "display_name": "Python 3",
   "language": "python",
   "name": "python3"
  },
  "language_info": {
   "codemirror_mode": {
    "name": "ipython",
    "version": 3
   },
   "file_extension": ".py",
   "mimetype": "text/x-python",
   "name": "python",
   "nbconvert_exporter": "python",
   "pygments_lexer": "ipython3",
   "version": "3.8.8"
  }
 },
 "nbformat": 4,
 "nbformat_minor": 5
}
