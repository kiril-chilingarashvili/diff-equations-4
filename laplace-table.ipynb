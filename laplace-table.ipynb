{
 "cells": [
  {
   "cell_type": "markdown",
   "id": "ce0602b0-8454-4fb4-9f98-e680258c6302",
   "metadata": {},
   "source": [
    "# Laplace Table"
   ]
  },
  {
   "cell_type": "markdown",
   "id": "c076cf4d-60bd-4595-8f3b-73bd9fc99f96",
   "metadata": {},
   "source": [
    "## Calculations"
   ]
  },
  {
   "cell_type": "markdown",
   "id": "9d8da67a-fe7e-4966-91ee-f94c1edef736",
   "metadata": {},
   "source": [
    "## $$ \\begin{array} {rclr} \\delta(t) & \\rightsquigarrow & 1 & \\, \\\\ u(t) & \\rightsquigarrow & \\displaystyle \\frac{1}{s} & \\operatorname{Re}(s) > 0 \\\\ u(t) e^{rt} & \\rightsquigarrow & \\displaystyle \\frac{1}{s-r} & \\operatorname{Re}(s) > \\operatorname{Re}(r) \\\\ u(t) \\cos(\\omega t) & \\rightsquigarrow & \\displaystyle \\frac{s}{s^2+\\omega^2} & \\operatorname{Re}(s) > 0 \\\\ u(t) \\sin(\\omega t) & \\rightsquigarrow & \\displaystyle \\frac{\\omega}{s^2+\\omega^2} & \\operatorname{Re}(s) > 0 \\\\ u(t) t & \\rightsquigarrow & \\displaystyle \\frac{1}{s^2} & \\operatorname{Re}(s) > 0 \\\\ u(t) t^n & \\rightsquigarrow & \\displaystyle \\frac{n!}{s^{n+1}} & \\operatorname{Re}(s) > 0 \\\\ u(t) t \\sin(\\omega t) & \\rightsquigarrow & \\displaystyle \\frac{2\\omega s}{(s^2+\\omega^2)^2} & \\operatorname{Re}(s) > 0 \\\\ u(t) t \\cos(\\omega t) & \\rightsquigarrow & \\displaystyle \\frac{s^2-\\omega^2}{(s^2+\\omega^2)^2} & \\operatorname{Re}(s) > 0 \\\\ \\displaystyle u(t) \\frac{1}{2\\omega}t \\sin(\\omega t) & \\rightsquigarrow & \\displaystyle \\frac{s}{(s^2+\\omega^2)^2} & \\operatorname{Re}(s) > 0 \\\\ \\displaystyle u(t) \\frac{1}{2\\omega^2} \\left( \\frac{1}{\\omega} \\sin(\\omega t) - t\\cos(\\omega t) \\right) & \\rightsquigarrow & \\displaystyle \\frac{1}{(s^2+\\omega^2)^2} & \\operatorname{Re}(s) > 0 \\end{array} $$"
   ]
  },
  {
   "cell_type": "markdown",
   "id": "4fef600e-bc3d-4bbb-ab21-29ce9c22f22b",
   "metadata": {},
   "source": [
    "## Rules"
   ]
  },
  {
   "cell_type": "markdown",
   "id": "73db8c7d-6c0f-4781-9b04-b39d6100431a",
   "metadata": {},
   "source": [
    "## $$ \\begin{array} {lclr} f'(t) & \\rightsquigarrow & sF(s) - f(0^-), & t\\text{-derivative rule} \\\\ t f(t) & \\rightsquigarrow & -F'(s), & s\\text{-derivative rule} \\\\ e^{at}f(t) & \\rightsquigarrow & F(s-a),& s\\text{-shift rule} \\\\ u(t-a)f(t-a) & \\rightsquigarrow & e^{-as}F(s) & t\\text{-shift rule, first form} \\\\ u(t-a)f(t) & \\rightsquigarrow & e^{-as} \\mathcal{L}(f(t+a)) & t\\text{-shift rule, second form} \\end{array} $$"
   ]
  },
  {
   "cell_type": "markdown",
   "id": "eeb4f2c2-5377-41c8-aac5-c2ab77827fec",
   "metadata": {},
   "source": [
    "## Inverse Euler's formulas:\n",
    "## $$ \\cos(\\omega t) = \\frac{e^{i\\omega t} + e^{-i\\omega t}}{2} $$\n",
    "## $$ \\sin(\\omega t) = \\frac{e^{i\\omega t} - e^{-i\\omega t}}{2i} $$"
   ]
  },
  {
   "cell_type": "markdown",
   "id": "0634b9fe-acab-4f68-9798-770ce63d6a7a",
   "metadata": {},
   "source": [
    "## Laplace transform\n",
    "## $$ F(s) = \\int_{0}^{\\infty} f(t) e^{-st} dt $$\n",
    "## Convolution\n",
    "## $$ f(t) * h(t) = \\int_{0^-}^{t^+} f(\\tau) h(t-\\tau) d\\tau $$"
   ]
  },
  {
   "cell_type": "markdown",
   "id": "0fb8dd26-b693-4731-8471-939deecfcac8",
   "metadata": {},
   "source": [
    "## Various"
   ]
  },
  {
   "cell_type": "markdown",
   "id": "2370c7c0-1637-436a-bfd2-3a4f3242bb24",
   "metadata": {},
   "source": [
    "## $$ \\mathcal{L}\\left(\\cos (\\omega t)f(t)\\right)=\\frac{1}{2}\\left(\\mathcal{L}\\left(e^{i\\omega t}f(t)\\right) + \\mathcal{L}\\left(e^{-i\\omega t}f(t)\\right)\\right) = \\frac{1}{2}(F(s-i\\omega )+F(s+i\\omega )) $$\n",
    "## $$ \\mathcal{L}\\left(\\sin (\\omega t)f(t)\\right)=\\frac{1}{2i}\\left(\\mathcal{L}\\left(e^{i\\omega t}f(t)\\right) - \\mathcal{L}\\left(e^{-i\\omega t}f(t)\\right)\\right) = \\frac{1}{2i}(F(s-i\\omega )-F(s+i\\omega )) $$\n",
    "## $$ \\begin{array} {rcl} u(t-a)\\cos(\\omega t) & \\rightsquigarrow & e^{-as}\\mathcal{L}(\\cos(\\omega (t + a));s) \\\\ \\, & = & e^{-as}\\mathcal{L}(\\cos(\\phi)\\cos(\\omega t) + \\sin(\\phi)\\sin(\\omega t);s) \\\\ \\, & = & \\displaystyle e^{-as}\\frac{\\cos(\\phi)s+\\sin(\\phi)\\omega}{s^2+\\omega^2}\\,(\\phi=-\\omega a) \\end{array} $$\n",
    "## $$ \\dot{u}(t) = \\delta(t) $$\n",
    "## $$ \\int_b^c \\delta(t-a) f(t) dt = f(a) \\quad (b<a<c) $$\n",
    "## $$ \\delta(t-a) \\rightsquigarrow e^{-as} $$\n",
    "## $$ 1 * 1 = t $$\n",
    "## $$ \\delta(t-a) * f(t) = f(t-a) * u(t-a) $$"
   ]
  },
  {
   "cell_type": "markdown",
   "id": "f5be13b9-b166-456b-b91b-7bf3a9f3e17b",
   "metadata": {},
   "source": [
    "## Unit impulse response transfer function example:\n",
    "### - For function: $\\displaystyle \\ddot{x} + 2 \\dot{x} + 10 x = 2 \\dot{y}$\n",
    "## $$ \\frac{2s}{s^2+2s+10} $$\n",
    "## Unit step response transfer function example:\n",
    "### - For function: $\\displaystyle \\ddot{x} + 2 \\dot{x} + 10 x = 2 \\dot{y}$\n",
    "## $$ \\frac{2}{s^2+2s+10} $$"
   ]
  },
  {
   "cell_type": "markdown",
   "id": "8ee74463-ae13-4328-adcc-46465d3e68d1",
   "metadata": {},
   "source": []
  }
 ],
 "metadata": {
  "kernelspec": {
   "display_name": "Python 3",
   "language": "python",
   "name": "python3"
  },
  "language_info": {
   "codemirror_mode": {
    "name": "ipython",
    "version": 3
   },
   "file_extension": ".py",
   "mimetype": "text/x-python",
   "name": "python",
   "nbconvert_exporter": "python",
   "pygments_lexer": "ipython3",
   "version": "3.8.8"
  }
 },
 "nbformat": 4,
 "nbformat_minor": 5
}
