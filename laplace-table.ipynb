{
 "cells": [
  {
   "cell_type": "markdown",
   "id": "ce0602b0-8454-4fb4-9f98-e680258c6302",
   "metadata": {},
   "source": [
    "# Laplace Table"
   ]
  },
  {
   "cell_type": "markdown",
   "id": "c076cf4d-60bd-4595-8f3b-73bd9fc99f96",
   "metadata": {},
   "source": [
    "## Calculations"
   ]
  },
  {
   "cell_type": "markdown",
   "id": "9d8da67a-fe7e-4966-91ee-f94c1edef736",
   "metadata": {},
   "source": [
    "## $$ \\begin{array} {rclr} 1 & \\rightsquigarrow & \\displaystyle \\frac{1}{s} & \\operatorname{Re}(s) > 0 \\\\ e^{rt} & \\rightsquigarrow & \\displaystyle \\frac{1}{s-r} & \\operatorname{Re}(s) > \\operatorname{Re}(r) \\\\ \\cos(\\omega t) & \\rightsquigarrow & \\displaystyle \\frac{s}{s^2+\\omega^2} & \\operatorname{Re}(s) > 0 \\\\ \\sin(\\omega t) & \\rightsquigarrow & \\displaystyle \\frac{\\omega}{s^2+\\omega^2} & \\operatorname{Re}(s) > 0 \\\\ t & \\rightsquigarrow & \\displaystyle \\frac{1}{s^2} & \\operatorname{Re}(s) > 0 \\\\ t^n & \\rightsquigarrow & \\displaystyle \\frac{n!}{s^{n+1}} & \\operatorname{Re}(s) > 0 \\\\ t \\sin(\\omega t) & \\rightsquigarrow & \\displaystyle \\frac{2\\omega s}{(s^2+\\omega^2)^2} & \\operatorname{Re}(s) > 0 \\\\ t \\cos(\\omega t) & \\rightsquigarrow & \\displaystyle \\frac{s^2-\\omega^2}{(s^2+\\omega^2)^2} & \\operatorname{Re}(s) > 0 \\\\ \\displaystyle \\frac{1}{2\\omega}t \\sin(\\omega t) & \\rightsquigarrow & \\displaystyle \\frac{s}{(s^2+\\omega^2)^2} & \\operatorname{Re}(s) > 0 \\\\ \\displaystyle \\frac{1}{2\\omega^2} \\left( \\frac{1}{\\omega} \\sin(\\omega t) - t\\cos(\\omega t) \\right) & \\rightsquigarrow & \\displaystyle \\frac{1}{(s^2+\\omega^2)^2} & \\operatorname{Re}(s) > 0  \\end{array} $$"
   ]
  },
  {
   "cell_type": "markdown",
   "id": "4fef600e-bc3d-4bbb-ab21-29ce9c22f22b",
   "metadata": {},
   "source": [
    "## Rules"
   ]
  },
  {
   "cell_type": "markdown",
   "id": "73db8c7d-6c0f-4781-9b04-b39d6100431a",
   "metadata": {},
   "source": [
    "## $$ \\begin{array} {lclr} f'(t) & \\rightsquigarrow & sF(s) - f(0), & t\\text{-derivative rule} \\\\ t f(t) & \\rightsquigarrow & -F'(s), & s\\text{-derivative rule} \\\\ e^{at}f(t) & \\rightsquigarrow & F(s-a),& s\\text{-shift rule} \\end{array} $$"
   ]
  },
  {
   "cell_type": "markdown",
   "id": "eeb4f2c2-5377-41c8-aac5-c2ab77827fec",
   "metadata": {},
   "source": []
  }
 ],
 "metadata": {
  "kernelspec": {
   "display_name": "Python 3",
   "language": "python",
   "name": "python3"
  },
  "language_info": {
   "codemirror_mode": {
    "name": "ipython",
    "version": 3
   },
   "file_extension": ".py",
   "mimetype": "text/x-python",
   "name": "python",
   "nbconvert_exporter": "python",
   "pygments_lexer": "ipython3",
   "version": "3.8.8"
  }
 },
 "nbformat": 4,
 "nbformat_minor": 5
}
