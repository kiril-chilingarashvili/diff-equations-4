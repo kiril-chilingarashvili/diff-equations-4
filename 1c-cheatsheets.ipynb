{
 "cells": [
  {
   "cell_type": "markdown",
   "id": "11c858c4-cc2c-45ec-996d-f736fdfd9f27",
   "metadata": {},
   "source": [
    "# Unit 1: Review Differential Equations, Part c - Pole Diagrams"
   ]
  },
  {
   "cell_type": "markdown",
   "id": "9593ea0f-1056-4a47-be3c-820c66a83d2f",
   "metadata": {},
   "source": [
    "## L3.2. Poles of the transfer function.\n",
    "\n",
    "### The transfer function formalism makes our notation neater, and broadens its scope: $s$ rather than $i\\omega$, and it gives information about more general system responses. But this generalization of $G(\\omega)$ is extremely useful in understanding the complex gain itself, as well.\n",
    "\n",
    "### The transfer function is a fairly complicated gadget. You can't really graph it! It takes a complex number as input, so its graph lies over the complex plane; and it produces a complex number as output, which needs another two dimensions to represent. So we can't graph it in three dimensions.\n",
    "\n",
    "### But the most useful part of the complex gain is its magnitude – the gain. So instead of graphing $H(s)$, we will graph $|H(s)|$. This is now a surface lying over the complex plane. Let's do some examples.\n",
    "\n",
    "### For a start, suppose our system is an undamped spring system, driven through the spring. This system is modeled by the equation\n",
    "## $$ m\\ddot{x}+kx = ky $$\n",
    "### This is the harmonic oscillator with natural frequency\n",
    "## $$ \\omega_n = \\sqrt{\\frac{k}{m}} $$\n",
    "### It's expressed in standard form $P(D)x = Q(D)y$, with\n",
    "## $$ P(s) = ms^2+k, \\quad Q(s) = k $$\n",
    "### So, its transfer function is\n",
    "## $$ H(s) = \\frac{k}{ms^2+k} = \\frac{k/m}{s^2+k/m} = \\frac{\\omega_n^2}{s^2+\\omega_n^2} $$\n",
    "### Let's think first of the graph of\n",
    "## $$ g(\\omega) = |G(\\omega)| = |H(i\\omega)| = \\frac{\\omega_n^2}{|(i\\omega)^2+\\omega_n^2|} = \\frac{\\omega_n^2}{|\\omega_n^2-\\omega^2|} $$\n",
    "### When $\\omega = \\pm \\omega_n$, the denominator vanishes and $G(\\omega)$ isn't defined. This is resonance! When $\\omega$ is near to $\\pm \\omega_n$ but not quite equal to it, the value of the gain is large; the sinusoidal system response has amplitude much larger than the amplitude of the input signal. As $|\\omega|$ gets large, the gain falls off to zero. The graph looks like this:\n",
    "![img](img/resonance.png)\n",
    "\n",
    "### This is the amplitude response curve of the system. Note that the frequency enters here only through its square. We lose nothing, and gain quite a bit, by formally allowing $\\omega$ to take on negative values as well as positive ones.\n",
    "\n",
    "### Now let's think about the absolute value of the full transfer function,\n",
    "## $$ |H(s)| = \\frac{\\omega_n^2}{|s^2+\\omega_n^2|} $$\n",
    " \n",
    "### The polynomial $s^2+\\omega_n^2$ has two roots, $s=\\pm i\\omega_n$. At these values of $s$, the transfer function is not defined. When $s$ is near to $\\pm i\\omega$, the value of $|H(s)|$ is large; when $|s|$ gets big, $|H(s)|$ falls off to small values. The graph looks like this:\n",
    "![img](img/pole.png)"
   ]
  },
  {
   "cell_type": "markdown",
   "id": "2e5d7555-fe9a-4e2d-8651-ff8b38e78be1",
   "metadata": {},
   "source": [
    "### If you slice the graph of $H(s)$ with a plane above the imaginary axis, you get the graph of the gain, which is the amplitude response curve – the graph of $g(\\omega) = |H(i \\omega)|$.\n",
    "\n",
    "### Think of this graph as like a tent. The canvas is draped over two tall poles, one at $i \\omega_n$, the other at $-i\\omega_n$.\n",
    "\n",
    "### The points $\\pm i \\omega_n$ are called ***poles***, perhaps because they lie at the base of the tent-poles. The most important features of the graph of $|H(s)|$ – and so of the gain curve – are captured by the location of the poles. A diagram of the complex plane with the location of the poles marked by ***X***'s is called a ***pole diagram*** of $H(s)$.\n",
    "![img](img/poles.png)\n",
    "### In our cases the poles of $H(s)$ are exactly the roots of the denominator, $P(s)$ (assuming P(s) and $Q(s)$ have no common factors).\n",
    "\n",
    "### Now, what happens if we introduce some damping? Let's set $m=1$ to save on symbols. So\n",
    "## $$ \\ddot{x}+b\\dot{x}+k x = k y $$\n",
    "## $$ P(s) = s^2+bs+k,\\quad Q(s) = k $$\n",
    "### and\n",
    "## $$ H(s) = \\frac{Q(s)}{P(s)} = \\frac{k}{s^2+bs+k} $$\n",
    "### The roots of $P(s)$ can be found by the quadratic formula, or, if you prefer, by completing the square:\n",
    "## $$ s^2+bs+k=(s+\\frac{b}{2})^2+(k-\\frac{b^2}{4}) $$\n",
    "### so $s$ is a root if $\\displaystyle (s+\\frac{b}{2})^2 = -(k-\\frac{b^2}{4})$. With $b$ small (smaller than $2\\sqrt{k}$, the system is underdamped; the right hand side is negative; and the roots are\n",
    "## $$ r = -\\frac{b}{2}+\\pm i\\omega_d $$\n",
    "### where\n",
    "## $$ \\omega_d = \\sqrt{k-\\frac{b^2}{4}} $$\n",
    "### is the ***damped angular frequency***. The roots have also acquired a real part that is negative. The damping has pushed them off the imaginary axis!\n",
    "\n",
    "### Because of damping there is no pure resonance. Engineers call the frequency that produces the largest gain (at least if $b$ is small relative to $k$) “practical resonance\". The amplitude response curve is:\n",
    "![img](img/practical-resonance-2.png)\n",
    "### The transfer function is now\n",
    "## $$ H(s) = \\frac{k}{s^2+bs+k} $$\n",
    "### This function has poles at the roots of the denominator, that is, at $\\displaystyle -\\frac{b}{2}\\pm i \\omega_d$. The pole diagram is this:\n",
    "![img](img/poles-2.png)\n",
    "### The graph of $|H(s)|$ exhibits two infinitely high peaks over these two points.\n",
    "![img](img/poles-3.png)\n",
    "\n",
    "### These points are no longer on the imaginary axis, but, if $b$ is small relative to $k$, they are not far off. So if you walk this terrain on a path over the imaginary axis, starting from $i\\omega$ for $\\omega$ larger than the resonant frequency, you will climb up the shoulder of the mountain near $\\displaystyle -\\frac{b}{2}+i\\omega_d$; then descend to a valley that reaches a relative minimum at $\\omega=0$; and then goes through a symmetrical elevation gain and loss for negative $\\omega$.\n",
    "\n",
    "### This hiking imagery is very useful. It explains how poles influence the gain curve.\n",
    "\n",
    "### Play with the mathlet below which plots $|H(s)|$ to get a better understanding of what is happening. (By clicking on and dragging the large graph on the left, you can change the orientation of the graph of $|H(s)|$. Click the top or side button to reset the orientation.)"
   ]
  },
  {
   "cell_type": "code",
   "execution_count": 1,
   "id": "1cb2aefa-9cd1-484c-8f06-b9b9a73de09e",
   "metadata": {},
   "outputs": [
    {
     "data": {
      "text/html": [
       "<iframe width=\"900\" height=\"650\" src=\"https://1803mathlets.netlify.app/ampresppolediagram\" frameborder=\"0\" allow=\"accelerometer; autoplay; clipboard-write; encrypted-media; gyroscope; picture-in-picture\" allowfullscreen></iframe>  \n"
      ],
      "text/plain": [
       "<IPython.core.display.HTML object>"
      ]
     },
     "metadata": {},
     "output_type": "display_data"
    }
   ],
   "source": [
    "%%html\n",
    "<iframe width=\"900\" height=\"650\" src=\"https://1803mathlets.netlify.app/ampresppolediagram\" frameborder=\"0\" allow=\"accelerometer; autoplay; clipboard-write; encrypted-media; gyroscope; picture-in-picture\" allowfullscreen></iframe>  "
   ]
  },
  {
   "cell_type": "markdown",
   "id": "4fca6258-aa7a-4f46-a8cb-9a3d4f3fae03",
   "metadata": {},
   "source": []
  }
 ],
 "metadata": {
  "kernelspec": {
   "display_name": "Python 3",
   "language": "python",
   "name": "python3"
  },
  "language_info": {
   "codemirror_mode": {
    "name": "ipython",
    "version": 3
   },
   "file_extension": ".py",
   "mimetype": "text/x-python",
   "name": "python",
   "nbconvert_exporter": "python",
   "pygments_lexer": "ipython3",
   "version": "3.8.8"
  }
 },
 "nbformat": 4,
 "nbformat_minor": 5
}
