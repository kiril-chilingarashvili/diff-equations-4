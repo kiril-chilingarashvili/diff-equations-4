{
 "cells": [
  {
   "cell_type": "markdown",
   "id": "11c858c4-cc2c-45ec-996d-f736fdfd9f27",
   "metadata": {},
   "source": [
    "# Unit 1: Review Differential Equations, Part c - Pole Diagrams"
   ]
  },
  {
   "cell_type": "markdown",
   "id": "9593ea0f-1056-4a47-be3c-820c66a83d2f",
   "metadata": {},
   "source": [
    "## L3.2. Poles of the transfer function.\n",
    "\n",
    "### The transfer function formalism makes our notation neater, and broadens its scope: $s$ rather than $i\\omega$, and it gives information about more general system responses. But this generalization of $G(\\omega)$ is extremely useful in understanding the complex gain itself, as well.\n",
    "\n",
    "### The transfer function is a fairly complicated gadget. You can't really graph it! It takes a complex number as input, so its graph lies over the complex plane; and it produces a complex number as output, which needs another two dimensions to represent. So we can't graph it in three dimensions.\n",
    "\n",
    "### But the most useful part of the complex gain is its magnitude – the gain. So instead of graphing $H(s)$, we will graph $|H(s)|$. This is now a surface lying over the complex plane. Let's do some examples.\n",
    "\n",
    "### For a start, suppose our system is an undamped spring system, driven through the spring. This system is modeled by the equation\n",
    "## $$ m\\ddot{x}+kx = ky $$\n",
    "### This is the harmonic oscillator with natural frequency\n",
    "## $$ \\omega_n = \\sqrt{\\frac{k}{m}} $$\n",
    "### It's expressed in standard form $P(D)x = Q(D)y$, with\n",
    "## $$ P(s) = ms^2+k, \\quad Q(s) = k $$\n",
    "### So, its transfer function is\n",
    "## $$ H(s) = \\frac{k}{ms^2+k} = \\frac{k/m}{s^2+k/m} = \\frac{\\omega_n^2}{s^2+\\omega_n^2} $$\n",
    "### Let's think first of the graph of\n",
    "## $$ g(\\omega) = |G(\\omega)| = |H(i\\omega)| = \\frac{\\omega_n^2}{|(i\\omega)^2+\\omega_n^2|} = \\frac{\\omega_n^2}{|\\omega_n^2-\\omega^2|} $$\n",
    "### When $\\omega = \\pm \\omega_n$, the denominator vanishes and $G(\\omega)$ isn't defined. This is resonance! When $\\omega$ is near to $\\pm \\omega_n$ but not quite equal to it, the value of the gain is large; the sinusoidal system response has amplitude much larger than the amplitude of the input signal. As $|\\omega|$ gets large, the gain falls off to zero. The graph looks like this:\n",
    "![img](img/resonance.png)\n",
    "\n",
    "### This is the amplitude response curve of the system. Note that the frequency enters here only through its square. We lose nothing, and gain quite a bit, by formally allowing $\\omega$ to take on negative values as well as positive ones.\n",
    "\n",
    "### Now let's think about the absolute value of the full transfer function,\n",
    "## $$ |H(s)| = \\frac{\\omega_n^2}{|s^2+\\omega_n^2|} $$\n",
    " \n",
    "### The polynomial $s^2+\\omega_n^2$ has two roots, $s=\\pm i\\omega_n$. At these values of $s$, the transfer function is not defined. When $s$ is near to $\\pm i\\omega$, the value of $|H(s)|$ is large; when $|s|$ gets big, $|H(s)|$ falls off to small values. The graph looks like this:\n",
    "![img](img/pole.png)"
   ]
  },
  {
   "cell_type": "markdown",
   "id": "2e5d7555-fe9a-4e2d-8651-ff8b38e78be1",
   "metadata": {},
   "source": [
    "### If you slice the graph of $H(s)$ with a plane above the imaginary axis, you get the graph of the gain, which is the amplitude response curve – the graph of $g(\\omega) = |H(i \\omega)|$.\n",
    "\n",
    "### Think of this graph as like a tent. The canvas is draped over two tall poles, one at $i \\omega_n$, the other at $-i\\omega_n$.\n",
    "\n",
    "### The points $\\pm i \\omega_n$ are called ***poles***, perhaps because they lie at the base of the tent-poles. The most important features of the graph of $|H(s)|$ – and so of the gain curve – are captured by the location of the poles. A diagram of the complex plane with the location of the poles marked by ***X***'s is called a ***pole diagram*** of $H(s)$.\n",
    "![img](img/poles.png)\n",
    "### In our cases the poles of $H(s)$ are exactly the roots of the denominator, $P(s)$ (assuming P(s) and $Q(s)$ have no common factors).\n",
    "\n",
    "### Now, what happens if we introduce some damping? Let's set $m=1$ to save on symbols. So\n",
    "## $$ \\ddot{x}+b\\dot{x}+k x = k y $$\n",
    "## $$ P(s) = s^2+bs+k,\\quad Q(s) = k $$\n",
    "### and\n",
    "## $$ H(s) = \\frac{Q(s)}{P(s)} = \\frac{k}{s^2+bs+k} $$\n",
    "### The roots of $P(s)$ can be found by the quadratic formula, or, if you prefer, by completing the square:\n",
    "## $$ s^2+bs+k=(s+\\frac{b}{2})^2+(k-\\frac{b^2}{4}) $$\n",
    "### so $s$ is a root if $\\displaystyle (s+\\frac{b}{2})^2 = -(k-\\frac{b^2}{4})$. With $b$ small (smaller than $2\\sqrt{k}$, the system is underdamped; the right hand side is negative; and the roots are\n",
    "## $$ r = -\\frac{b}{2}+\\pm i\\omega_d $$\n",
    "### where\n",
    "## $$ \\omega_d = \\sqrt{k-\\frac{b^2}{4}} $$\n",
    "### is the ***damped angular frequency***. The roots have also acquired a real part that is negative. The damping has pushed them off the imaginary axis!\n",
    "\n",
    "### Because of damping there is no pure resonance. Engineers call the frequency that produces the largest gain (at least if $b$ is small relative to $k$) “practical resonance\". The amplitude response curve is:\n",
    "![img](img/practical-resonance-2.png)\n",
    "### The transfer function is now\n",
    "## $$ H(s) = \\frac{k}{s^2+bs+k} $$\n",
    "### This function has poles at the roots of the denominator, that is, at $\\displaystyle -\\frac{b}{2}\\pm i \\omega_d$. The pole diagram is this:\n",
    "![img](img/poles-2.png)\n",
    "### The graph of $|H(s)|$ exhibits two infinitely high peaks over these two points.\n",
    "![img](img/poles-3.png)\n",
    "\n",
    "### These points are no longer on the imaginary axis, but, if $b$ is small relative to $k$, they are not far off. So if you walk this terrain on a path over the imaginary axis, starting from $i\\omega$ for $\\omega$ larger than the resonant frequency, you will climb up the shoulder of the mountain near $\\displaystyle -\\frac{b}{2}+i\\omega_d$; then descend to a valley that reaches a relative minimum at $\\omega=0$; and then goes through a symmetrical elevation gain and loss for negative $\\omega$.\n",
    "\n",
    "### This hiking imagery is very useful. It explains how poles influence the gain curve.\n",
    "\n",
    "### Play with the mathlet below which plots $|H(s)|$ to get a better understanding of what is happening. (By clicking on and dragging the large graph on the left, you can change the orientation of the graph of $|H(s)|$. Click the top or side button to reset the orientation.)"
   ]
  },
  {
   "cell_type": "code",
   "execution_count": 1,
   "id": "1cb2aefa-9cd1-484c-8f06-b9b9a73de09e",
   "metadata": {},
   "outputs": [
    {
     "data": {
      "text/html": [
       "<iframe width=\"900\" height=\"650\" src=\"https://1803mathlets.netlify.app/ampresppolediagram\" frameborder=\"0\" allow=\"accelerometer; autoplay; clipboard-write; encrypted-media; gyroscope; picture-in-picture\" allowfullscreen></iframe>  \n"
      ],
      "text/plain": [
       "<IPython.core.display.HTML object>"
      ]
     },
     "metadata": {},
     "output_type": "display_data"
    }
   ],
   "source": [
    "%%html\n",
    "<iframe width=\"900\" height=\"650\" src=\"https://1803mathlets.netlify.app/ampresppolediagram\" frameborder=\"0\" allow=\"accelerometer; autoplay; clipboard-write; encrypted-media; gyroscope; picture-in-picture\" allowfullscreen></iframe>  "
   ]
  },
  {
   "cell_type": "markdown",
   "id": "4fca6258-aa7a-4f46-a8cb-9a3d4f3fae03",
   "metadata": {},
   "source": [
    "## L3.3. Poles, amplitude response, connection to ERF.\n",
    "\n",
    "### ***What we know***\n",
    "### We've briefly introduced the idea of poles and the transfer function. We need to tie these ideas back to what we already know, and develop the pole diagram.\n",
    "\n",
    "### If we consider an LTI system\n",
    "## $$ P(D)x = Q(D)y $$\n",
    "\n",
    "### where $y(t)$ is the input and $x(t)$ is the system response:\n",
    "### - The ***stability*** of the system is determined by the roots of the characteristic polynomial $P(r)$.\n",
    "### - The ***amplitude response*** of the system to a sinusoidal input of frequency $\\omega$ is determined by the characteristic polynomial $P$ and the polynomial $Q$ via the equation\n",
    "## $$ g(\\omega) = \\left| \\frac{Q(i\\omega)}{P(i\\omega)} \\right| $$\n",
    "### - The ***transfer function*** is $\\displaystyle  H(s) = \\frac{Q(s)}{P(s)}$.\n",
    "\n",
    "### We see that the roots of $P$ give us important information about the system. The roots of $P(s)$ are the poles of $H(s)$, so all of this information is present in the pole diagram. In summary, the roots of $P$ occur in the denominator of the transfer function. These are called ***poles*** of the transfer function.\n",
    "\n",
    "### Here we will learn about ***poles*** and the ***pole diagram*** of an LTI system. The pole diagram ties together stability, amplitude response, and transfer function in one diagram in the complex $s$-plane.\n",
    "\n",
    "### The ***pole diagram*** of the transfer function\n",
    "### 1. shows whether the system is stable;\n",
    "### 2. shows whether the unforced system is oscillatory; and\n",
    "### 3. gives a rough picture of the amplitude response and (practical) resonances of the system.\n",
    "\n",
    "### For these reasons the pole diagram is a standard tool used by engineers in understanding and designing systems.\n",
    "\n",
    "### Since every LTI system has a transfer function, everything we learn here will apply to all such systems."
   ]
  },
  {
   "cell_type": "markdown",
   "id": "3a118e3a-e50d-42c3-a664-464a99136f4f",
   "metadata": {},
   "source": [
    "## L3.4. Defining poles.\n",
    "\n",
    "### ***Rational Functions***.\n",
    "\n",
    "### ***Definition 4.1***\n",
    "### A ***rational function*** is a ratio of polynomials $\\displaystyle \\frac{Q(s)}{P(s)}$, where $P$ is not the zero function.\n",
    "\n",
    "### ***Example 4.2***\n",
    "### The following are all rational functions.\n",
    "## $$ \\frac{s^2+1}{s^3+3s+1},\\quad \\frac{1}{ms^2+bs+k},\\quad\\frac{s^5+s^3+s+1}{s^3} $$\n",
    "### If the numerator $Q(s)$ and the denominator $P(s)$ have no roots in common, then the rational function $\\displaystyle \\frac{Q(s)}{P(s)}$ is in ***reduced form***.\n",
    "\n",
    "### ***Example 4.3***\n",
    "### The three functions in the example above are all in reduced form.\n",
    "\n",
    "### ***Example 4.4***\n",
    "### $\\displaystyle \\frac{s-2}{s^2-4}$ is not in reduced form, because $s=2$ is a root of both numerator and denominator. \n",
    "### We can rewrite this in reduced form as\n",
    "## $$ \\frac{s-2}{s^2-4} = \\frac{s-2}{(s-2)(s+2)} = \\frac{1}{s+2} $$\n",
    "\n",
    "### ***Poles***.\n",
    "### For a rational function in reduced form the ***poles*** are the values of $s$ where the denominator is equal to zero; or, in other words, the points where the rational function is not defined. We allow the poles to be ***complex numbers*** here.\n",
    "\n",
    "### ***Remark 4.5***\n",
    "### For the system $P(D)x=Q(D)y$ with transfer function $\\displaystyle H(s) = \\frac{Q(s)}{P(s)}$, the poles of the transfer function are among the roots of $P(s)$. That is, they are among the characteristic roots used to solve the homogeneous equation $P(D)x=0$."
   ]
  },
  {
   "cell_type": "markdown",
   "id": "e2212d41-c303-487f-884b-bb1e405f3146",
   "metadata": {},
   "source": [
    "## L3.5. Pole diagrams.\n",
    "\n",
    "### We now have pole diagrams for functions. This allows us to define the pole diagram for an LTI system using the system function.\n",
    "\n",
    "### ***Definition 5.1***\n",
    "### The ***pole diagram of a function*** $F(s)$ is simply the complex $s$-plane with an ***X*** marking the location of each pole of $F(s)$.\n",
    "\n",
    "### ***Example 5.2***\n",
    "### The function $\\displaystyle F(s) = \\frac{1}{s+2}$ has a pole at $s=-2$. The pole diagram is a copy of the complex plane with an ***X*** at the location $s=-2$.\n",
    "![img](img/pole-10.png)\n",
    "\n",
    "### ***Example 5.3***\n",
    "### The function $\\displaystyle F(s) = \\frac{1}{s^2+4}$ has poles at $s=\\pm 2 i$. The pole diagram is a copy of the complex plane with an ***X*** at the location $s=-2 i$ and $s=2 i$.\n",
    "![img](img/pole-11.png)\n",
    "\n",
    "### ***Example 5.4***\n",
    "### Draw the pole diagram for $\\displaystyle F(s) = \\frac{s}{s^2+6s+10}$.\n",
    "\n",
    "### Note that the poles of $F$ are where the denominator is zero. We complete the square to find the roots:\n",
    "## $$ \\begin{array} {rcl} 0 & = & s^2 + 6s + 10 \\\\ \\, & = & (s+3)^2-9+10 \\\\ \\, & = & (s+3)^2+1 \\\\ \\, & \\implies & s = -3 \\pm i \\end{array} $$\n",
    "### Thus the pole diagram is as follows.\n",
    "![img](img/pole-12.png)"
   ]
  },
  {
   "cell_type": "markdown",
   "id": "098a3851-e42e-43e7-a7b9-94cfb0923a91",
   "metadata": {},
   "source": []
  }
 ],
 "metadata": {
  "kernelspec": {
   "display_name": "Python 3",
   "language": "python",
   "name": "python3"
  },
  "language_info": {
   "codemirror_mode": {
    "name": "ipython",
    "version": 3
   },
   "file_extension": ".py",
   "mimetype": "text/x-python",
   "name": "python",
   "nbconvert_exporter": "python",
   "pygments_lexer": "ipython3",
   "version": "3.8.8"
  }
 },
 "nbformat": 4,
 "nbformat_minor": 5
}
