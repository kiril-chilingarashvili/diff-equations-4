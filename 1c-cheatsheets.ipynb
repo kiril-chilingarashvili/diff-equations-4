{
 "cells": [
  {
   "cell_type": "markdown",
   "id": "11c858c4-cc2c-45ec-996d-f736fdfd9f27",
   "metadata": {},
   "source": [
    "# Unit 1: Review Differential Equations, Part c - Pole Diagrams"
   ]
  },
  {
   "cell_type": "markdown",
   "id": "9593ea0f-1056-4a47-be3c-820c66a83d2f",
   "metadata": {},
   "source": [
    "## "
   ]
  }
 ],
 "metadata": {
  "kernelspec": {
   "display_name": "Python 3",
   "language": "python",
   "name": "python3"
  },
  "language_info": {
   "codemirror_mode": {
    "name": "ipython",
    "version": 3
   },
   "file_extension": ".py",
   "mimetype": "text/x-python",
   "name": "python",
   "nbconvert_exporter": "python",
   "pygments_lexer": "ipython3",
   "version": "3.8.8"
  }
 },
 "nbformat": 4,
 "nbformat_minor": 5
}
