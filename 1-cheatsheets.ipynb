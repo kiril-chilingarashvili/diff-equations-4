{
 "cells": [
  {
   "cell_type": "markdown",
   "id": "d5b8428a-eb9d-4e6b-a4b6-513f6d3b25f5",
   "metadata": {},
   "source": [
    "# Unit 1: Review Differential Equations"
   ]
  },
  {
   "cell_type": "markdown",
   "id": "243798cf-1b2f-4128-8f58-ea2b6f2a9774",
   "metadata": {},
   "source": []
  }
 ],
 "metadata": {
  "kernelspec": {
   "display_name": "Python 3",
   "language": "python",
   "name": "python3"
  },
  "language_info": {
   "codemirror_mode": {
    "name": "ipython",
    "version": 3
   },
   "file_extension": ".py",
   "mimetype": "text/x-python",
   "name": "python",
   "nbconvert_exporter": "python",
   "pygments_lexer": "ipython3",
   "version": "3.8.8"
  }
 },
 "nbformat": 4,
 "nbformat_minor": 5
}
