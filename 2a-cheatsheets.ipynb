{
 "cells": [
  {
   "cell_type": "markdown",
   "id": "3fd996e2-7472-46b4-8893-fd6256586fb7",
   "metadata": {},
   "source": [
    "# Unit 2: Laplace transform, Part a - Laplace Transform"
   ]
  },
  {
   "cell_type": "markdown",
   "id": "cac76c57-37bd-48b4-9be3-457210c767a1",
   "metadata": {},
   "source": [
    "## L4.2. Recap and prospect.\n",
    "\n",
    "### There are a lot of remaining questions we'd like to answer about the behavior of systems:\n",
    "\n",
    "### - Can we use the transfer function to predict how the system will respond to other input signals?\n",
    "### - Suppose we have recorded the system response to a ***single*** (non-null) signal. Can we use that single response to determine the transfer function (and hence the system parameters)?\n",
    "### - How can we extend our methods to cover the behavior of more complicated systems involving feedback?\n",
    "\n",
    "### Here we introduce the ***Laplace transform***, which is the machinery we use to answer these questions through the remainder of this course.\n",
    "\n",
    "### Let's recall where we are. We have developed some of the “linear, time-invariant\" theory of mechanical and electronic systems. A principal result of our work is an understanding of how such a system responds to an exponential input signal – one of the form $y(t) = e^{st}$ for a fixed complex number $s$. We found that there is generally a system response that is a multiple of the input signal\n",
    "## $$ x(t) = H(s) e^{st} $$\n",
    "### The “system function\" or “transfer function\" $H(s)$ depends upon the exponential constant $s$ (which is often a complex number) but is independent of $t$. The exception occurs when $s$ is a pole of $H(s)$; this condition is termed “resonance.\"\n",
    "\n",
    "### This provides one particular system response to $e^{st}$. By superposition, the other solutions are given by adding in some homogeneous solution (response to the zero input signal). For this theory to be useful, the system must be ***stable***, i.e. all these signals must die off as $t$ gets large. We found that stability is equivalent to requiring all the poles of $H(s)$ to have negative real part, i.e. to lie in the left half plane. In this case, the null responses are “transients,\" and all system responses to the same input signal become asymptotic as $t$ grows large.\n",
    "\n",
    "### A second assumption we make in this course is that the system is controlled by a differential equation: one of the form\n",
    "## $$ P(D)x = Q(D)y $$\n",
    "### Then we found that\n",
    "## $$ H(s) = \\frac{Q(s)}{P(s)} $$\n",
    "### The transfer function thus contains, as coefficients, the system parameters characterizing the LTI system, as they enter into the differential equation.\n",
    "\n",
    "### This is a beautiful theory, and by taking $s=i\\omega$ we obtain a complete understanding of how the system responds to sinusoidal signals; $H(i\\omega)$ is the ***complex gain*** $G(\\omega)$.\n",
    "\n",
    "### Throughout the rest of this course, we'll address the questions at the top. In this lecture, we introduce the machinery that will allow us to answer these questions."
   ]
  },
  {
   "cell_type": "markdown",
   "id": "a2c51f5d-cfce-4de8-8cc1-8ad5c07e2f53",
   "metadata": {},
   "source": [
    "## L4.3. Laplace transform.\n",
    "\n",
    "### The Laplace transform will allow us to envision the effect of an LTI system on ***any*** function (subject to certain initial conditions) as multiplying by the transfer function.\n",
    "\n",
    "### Since our systems are time-invariant, we might as well start our study of their behavior at $t=0$, and this will be a standing convention in our work with the Laplace transform.\n",
    "\n",
    "### Here is a first definition of the Laplace transform of $f(t)$. We will refine it slightly later.\n",
    "\n",
    "### ***Definition 3.1***  \n",
    "## $$ F(s) = \\int_{0}^{\\infty} f(t) e^{-st} dt $$\n",
    "### We will often use the notation\n",
    "## $$ f(t) \\rightsquigarrow F(s) $$\n",
    "### The Laplace transform converts functions of the ***real*** variable $t$ to functions of a completely different variable, the ***complex*** variable $s$. It moves us from the time domain to what is often termed the ***frequency domain***. (Once we see the connection between Laplace transform and the system function, this terminology will seem more justified.)\n",
    "\n",
    "### It's very important to recognize that the two functions, $f(t)$ and $F(s)$, are functions of ***different variables***. If we think of $s$ as representing frequency, then the Laplace transform converts between the time domain and the frequency domain.\n",
    "![img](img/laplace.png)\n",
    "\n",
    "### ***Note***: This definition of the Laplace Transform probably seems abstract; we will see an analogy between the Laplace Transform and power series."
   ]
  },
  {
   "cell_type": "markdown",
   "id": "94136ad1-e725-415d-9794-61b57730f08f",
   "metadata": {},
   "source": [
    "## L4.4. Other notation.\n",
    "\n",
    "### The Laplace transform is often denoted using the script letter $\\mathcal{L}$.\n",
    "\n",
    "### For example, Laplace transform of a function $f(t)$ is the function\n",
    "## $$ \\mathcal{L} (f(t)) $$\n",
    "### But what is the variable of this transformed function? Because the variable of the transform is not always clear from context, we prefer the notation\n",
    "## $$ \\mathcal{L} (f(t);s) $$\n",
    "### which makes the variable of the transformed function explicit.\n",
    "\n",
    "### Sometimes we contract the notation even further and write $\\mathcal{L} (f)$ for the Laplace transform. So here is all of the notation for the Laplace transform that you might see.\n",
    "## $$ f(t) \\rightsquigarrow F(s) = \\mathcal{L} (f(t);s) = \\mathcal{L} (f(t)) = \\mathcal{L} (f) $$"
   ]
  },
  {
   "cell_type": "markdown",
   "id": "bd990072-d9d2-47fe-b78f-9d69eece8c70",
   "metadata": {},
   "source": [
    "## L4.5. First computation.\n",
    "\n",
    "### Let's begin by computing the Laplace transform of the constant function with value 1:\n",
    "## $$ \\mathcal{L} (1;s) = \\int_{0}^{\\infty} e^{-st}dt $$\n",
    "### This is an improper integral. If $s=0$, the integrand is the constant 1, and the integral diverges. If $s<0$, the situation is even worse: $e^{-st}$ grows without bound as $t\\to\\infty$, and the integral again diverges. In the remaining case, $s>0$, we can calculate: Since $\\displaystyle \\lim_{t\\to\\infty} e^{-st} = 0$,\n",
    "## $$ \\mathcal{L} (1;s) = \\int_{0}^{\\infty} e^{-st}dt = \\left. \\frac{e^{-st}}{-s} \\right|_0^\\infty = \\frac{1}{s}-\\frac{1}{s}\\lim_{t\\to\\infty} e^{-st} = \\frac{1}{s} $$\n",
    "### ***But wait!*** The number $s$ was supposed to be complex, not necessarily real: say $s=a+bi$; $a=\\operatorname{Re}(s), b=\\operatorname{Im}(s)$. Then\n",
    "## $$ e^{-st} = e^{-at}(\\cos(-bt)+i\\sin(-bt)) $$\n",
    "### This again tends to zero as $t\\to\\infty$ if $a>0$, while if $a<0$ it grows without bound. If $a=0$, $e^{-st}$ runs around the unit circle as $t$ increases. Both the latter two cases lead to divergent improper integrals. So:\n",
    "## $$ \\mathcal{L} (1;s) = \\left\\{ \\begin{array} {rcl} 1/s & \\text{if} & \\operatorname{Re}(s) > 0 \\\\ \\text{undefined} & \\text{if} & \\operatorname{ Re}(s) \\leq 0 \\end{array} \\right. $$\n",
    "### This example exhibits a typical behavior of the integral defining the Laplace transform: it diverges for all $s$ to the left of some vertical line in the complex plane. The half plane where the integral does converge is the ***region of convergence***.\n",
    "![img](img/region-of-convergence.png)"
   ]
  },
  {
   "cell_type": "markdown",
   "id": "ad42ec8f-407f-4e3d-9899-7c4ccb870c44",
   "metadata": {},
   "source": [
    "## L4.6. Linearity.\n",
    "\n",
    "### We will develop a list of rules satisfied by the Laplace transform.\n",
    "\n",
    "### ***Linearity***: For $a$ and $b$ constant:\n",
    "## $$ \\mathcal{L} (af(t)+bg(t);s) = a \\mathcal{L} (f(t);s) + b \\mathcal{L} (g(t);s) $$\n",
    "### or\n",
    "## $$ af(t)+bg(t) \\rightsquigarrow a F(s) + b G(s) $$\n",
    "### The proof is easy: multiplication by $e^{-st}$ is linear, and integration is linear.\n",
    "\n",
    "### The rules and the calculations combine to provide new evaluations of the Laplace transform.\n",
    "\n",
    "### ***Example***: Let's combine linearity with\n",
    "## $$ \\mathcal{L} (e^{rt};s) = \\frac{1}{s-r}, \\quad \\operatorname{ Re}(s) > \\operatorname{ Re}(r) $$\n",
    "### to evaluate $\\mathcal{L} (\\cos(\\omega t); s)$, using the inverse Euler formula:\n",
    "## $$ \\begin{array} {rcl} \\cos(\\omega t) & = & \\displaystyle \\frac{e^{i\\omega t} + e^{-i\\omega t}}{2} \\\\ \\, & \\rightsquigarrow & \\displaystyle \\frac{1}{2} \\left( \\frac{1}{s-i\\omega} + \\frac{1}{s+i\\omega} \\right) \\\\ \\, & = & \\displaystyle \\frac{1}{2} \\frac{(s+i\\omega) + (s-i\\omega)}{s^2+\\omega^2} = \\frac{s}{s^2+\\omega^2} \\end{array} $$\n",
    "### Each term had $\\operatorname{Re}(s)>0$ as a region of convergence, so this is the region of convergence for this Laplace transform as well.\n",
    "### (Inverse Euler formula for $\\sin$: $\\displaystyle  \\cos(\\omega t) = \\frac{e^{i\\omega t} - e^{-i\\omega t}}{2 i}$)\n",
    "\n",
    "### ***Example***\n",
    "## $$ \\begin{array} {rcl} \\mathcal{L} (e^{at}\\cos(\\omega t);s) & = & \\displaystyle \\mathcal{L} (e^{at} \\frac{e^{i\\omega t} + e^{-i\\omega t}}{2};s) \\\\ \\, & = & \\displaystyle \\frac{1}{2}\\frac{1}{s-a-i\\omega}+\\frac{1}{2}\\frac{1}{s-a+i\\omega} \\\\ \\, & = & \\displaystyle \\frac{s-a}{(s-a)^2+\\omega^2} \\end{array} $$\n",
    "### Inverse Euler's formulas:\n",
    "## $$ \\cos(\\omega t) = \\frac{e^{i\\omega t} + e^{-i\\omega t}}{2} $$\n",
    "## $$ \\sin(\\omega t) = \\frac{e^{i\\omega t} - e^{-i\\omega t}}{2i} $$"
   ]
  },
  {
   "cell_type": "markdown",
   "id": "a8f7a5f4-300c-4a07-8936-ed2a0a881cb7",
   "metadata": {},
   "source": [
    "## L4.8. Exponential type and region of convergence.\n",
    "\n",
    "### A function $f(t)$ is of ***exponential type*** $k$, for some real number $k$, if for some constant $C>0$\n",
    "## $$ |f(t)| \\leq C e^{kt} $$\n",
    "### ***Theorem 8.1***\n",
    "### 1. The Laplace transform $\\mathcal{L} (f(t); s)$ exists if $f(t)$ is of exponential type.\n",
    "### 2. If $f(t)$ is of exponential type $k$, then the Laplace transform $\\mathcal{L} (f(t);s)$ converges for $\\operatorname{ Re}(s) > k$.\n",
    "\n",
    "### ***Proof***.\n",
    "### Suppose that $\\operatorname{Re}(s)>k$, that is $s=(k+a)+bi$ for some positive number $a$ and real number $b$.\n",
    "\n",
    "### We are given that $|f(t)| < C e^{kt}$. Thus\n",
    "## $$ \\begin{array} {rcl} |f(t) e^{-st} & = & |f(t) e^{-(k+a)t}e^{-ibt}| \\\\ \\, & = & |f(t) e^{-(k+a)t}| \\quad \\text{since}\\,|e^{-ibt}| = 1 \\\\ \\, & = & |f(t)|e^{-(k+a)t}\\quad\\text{since}\\, e^{-(k+a)t} > 0 \\\\ \\, & \\leq & C e^{kt} e^{-(k+a)t}\\quad \\text{since}\\, |f(t)| \\leq C e^{kt} \\\\ \\, & = & C e^{-at} \\end{array} $$\n",
    "### Since $\\displaystyle \\left| \\int f(t) dt \\right| \\leq \\int \\left| f(t) \\right| dt$,\n",
    "## $$ \\left| \\int_{0}^{M} f(t) e^{-st} dt \\right| \\leq \\int_{0}^{M} \\left| f(t) e^{-st} \\right| dt \\leq \\int_{0}^{M} C e^{-at} dt $$\n",
    "### This last integral has a limit as $M\\to\\infty$, so the improper integral defining $\\mathcal{L} (f(t); s)$ converges as long as $\\operatorname{Re}(s) > k$."
   ]
  },
  {
   "cell_type": "markdown",
   "id": "1fbca187-c226-4818-8cc1-5a56a704a72d",
   "metadata": {},
   "source": [
    "## L4.9. Laplace transform of a derivative.\n",
    "\n",
    "### The power of the Laplace transform in understanding differential equations arises from how it evaluates on derivatives. So let's think about\n",
    "## $$ \\mathcal{L} (f'(t); s) = \\int_{0}^{\\infty} e^{-st}f'(t) dt $$\n",
    "### This calls for integration by parts. So let\n",
    "## $$ u = e^{-st}, \\quad dv = f'(t)dt $$\n",
    "### Then\n",
    "## $$ du = -s e^{-st} dt,\\quad v=f(t) $$\n",
    "### Remember that since we are integrating with respect to $t$, we can treat the factor of $s$ as a constant and move it outside the integral:\n",
    "## $$ \\mathcal{L} (f'(t);s) = \\int_{0}^{\\infty} e^{-st} f'(t) dt = \\left. e^{-st} f(t) \\right|_0^\\infty-\\int_{0}^\\infty(-s)e^{-st}f(t) dt $$\n",
    "### The limit in the first term here will probably not converge for all $s$. But if $f(t)$ is of exponential type $k$, then it will converge as long as $\\operatorname{ Re}(s)>k$.\n",
    "### Thus for $f(t)$ of type $k$ with $\\operatorname{ Re}(s)>k$\n",
    "## $$ \\mathcal{L} (f'(t);s) = -f(0)+s\\int_0^\\infty e^{-st} f(t) dt $$\n",
    "### (Remember, $e^0$ and $s$ is constant!)\n",
    "\n",
    "### Do you recognize the integral in the second term? It's exactly the definition of the Laplace transform of $f(t)$! We have seen:\n",
    "\n",
    "### ***The $t$-derivative rule***:\n",
    "## $$ \\mathcal{L} (f'(t);s) = s \\mathcal{L} (f(t); s) - f(0) $$\n",
    "### or\n",
    "## $$ f'(t) \\rightsquigarrow s F(s) - f(0) $$\n",
    "\n",
    "### ***Remark 9.1***\n",
    "### We had to assume that $f(t)$ was of exponential type $k$ in this derivation. But after all, before we ever started to think about $f'(t)$, we had to assume that $f(t)$ was of exponential type $k$ in order to guarantee that the integral defining $F(s)$ converged for $\\operatorname{ Re}(s)>k$; so this is not a new assumption. What we do learn is that if $f(t)$ is of exponential type $k$ then the region of convergence of $\\mathcal{L} (f'(t);s)$ contains $\\operatorname{ Re}(s)>k$.\n",
    "\n",
    "### ***Example 9.2***\n",
    "### Just to verify that we need the $f(0)$ term in the formula, let's work this out in an example. With $f(t)=1$, $f'(t) = 0$. It follows that $\\mathcal{L} (0;s) = 0$, so the $t$-derivative rule gives\n",
    "## $$ 0 = s \\frac{1}{1} - 1 $$\n",
    "### which, luckily, is true!"
   ]
  },
  {
   "cell_type": "markdown",
   "id": "74ea584d-f9d2-4ff1-8cc7-5abe1528ef63",
   "metadata": {},
   "source": [
    "## L4.10. Laplace transform of higher derivatives.\n",
    "\n",
    "### We can go on to compute the effect of Laplace transform on the second derivative. To make the calculation clearer, let's write $g(t) = f'(t)$ and $G(s)$ for its Laplace transform; so we know that $G(s) = sF(s) - f(0)$. Then\n",
    "## $$ \\begin{array} {rcl} f''(t) = g'(t) & \\rightsquigarrow & s G(s) - g(0) \\\\ \\, & = & s(s F(s) - f(0)) - g(0) \\\\ \\, & = & s^2 F(s) - f(0) s - f'(0) \\end{array} $$\n",
    "### This process continues; we find that $\\mathcal{L} (f^{(n)}(t);s)$ depends upon $f(0), f'(0), \\ldots,f^{(n-1)}(0)$:\n",
    "## $$ f^{(n)}(t) \\rightsquigarrow s^n F(s) - (f(0) s^{n-1} + f'(0) s^{n-2} + \\cdots + f^{(n-1)}(0) ) $$"
   ]
  },
  {
   "cell_type": "markdown",
   "id": "f802db9e-d800-4dc9-a8c7-664040423103",
   "metadata": {},
   "source": [
    "## L4.11. Summary.\n",
    "\n",
    "### ***Calculations***\n",
    "## $$ \\boxed{\\begin{array} {rclr} 1 & \\rightsquigarrow & \\displaystyle \\frac{1}{s} & \\operatorname{ Re}(s)>0 \\\\ e^{rt} & \\rightsquigarrow & \\displaystyle \\frac{1}{s-r} & \\operatorname{ Re}(s)>\\operatorname{ Re}(r) \\\\ \\cos(\\omega t) & \\rightsquigarrow & \\displaystyle \\frac{s}{s^2+\\omega^2} & \\operatorname{ Re}(s)>0 \\\\ \\sin(\\omega t) & \\rightsquigarrow & \\displaystyle  \\frac{\\omega}{s^2+\\omega^2} & \\operatorname{ Re}(s)>0 \\\\ t & \\rightsquigarrow & \\displaystyle \\frac{1}{s^2} & \\operatorname{ Re}(s)>0  \\end{array}} $$"
   ]
  },
  {
   "cell_type": "markdown",
   "id": "fec3d3e3-8f69-4be2-b2ae-67ba5df307eb",
   "metadata": {},
   "source": [
    "### ***Rules***\n",
    "### ***Linearity***:\n",
    "## $$ a f(t) + b g(t) \\rightsquigarrow a F(s) + b G(s) $$\n",
    "### ***$t$-Derivative***:\n",
    "## $$ f'(t) \\rightsquigarrow s F(s) - f(0) $$\n",
    "## $$ f''(t) \\rightsquigarrow s^2 F(s) - f(0) s - f'(0) $$\n",
    "## $$ f^{(n)}(t) \\rightsquigarrow s^n F(s) - \\left( f(0) s^{n-1} + f'(0) s^{n-2} +\\cdots+f^{(n+1)}(0) \\right) $$\n",
    "### ***Region of convergence***:\n",
    "### If $f(t)$ is exponential of type $k$, then $\\mathcal{L} (f)$ exists and converges for $\\operatorname{Re}(s)>k$"
   ]
  },
  {
   "cell_type": "markdown",
   "id": "d594a4ca-c2fc-4e47-ae24-685e09160b8c",
   "metadata": {},
   "source": []
  }
 ],
 "metadata": {
  "kernelspec": {
   "display_name": "Python 3",
   "language": "python",
   "name": "python3"
  },
  "language_info": {
   "codemirror_mode": {
    "name": "ipython",
    "version": 3
   },
   "file_extension": ".py",
   "mimetype": "text/x-python",
   "name": "python",
   "nbconvert_exporter": "python",
   "pygments_lexer": "ipython3",
   "version": "3.8.8"
  }
 },
 "nbformat": 4,
 "nbformat_minor": 5
}
