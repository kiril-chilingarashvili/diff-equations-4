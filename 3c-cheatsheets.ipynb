{
 "cells": [
  {
   "cell_type": "markdown",
   "id": "c98090bc-76e5-46ca-ab5a-84cceea7e5a6",
   "metadata": {},
   "source": [
    "# Unit 3: Step and Impulse Response and Feedback, Part c - Feedback"
   ]
  },
  {
   "cell_type": "markdown",
   "id": "813e82b7-4a88-432f-bf16-d048a8cca811",
   "metadata": {},
   "source": [
    "## L10.2. Introduction to feedback\n",
    "\n",
    "### Feedback is everywhere! You couldn't walk or ride a bicycle without the constant use of feedback. We have seen the example of acoustic feedback, which is often thought of as an annoyance. But the real power and interest in the feedback concept is its usefulness in stabilizing systems.\n",
    "\n",
    "### We'll begin with a couple of examples designed to drive home the point that systems we already know well can be viewed as containing feedback loops."
   ]
  },
  {
   "cell_type": "markdown",
   "id": "31f8d227-926f-484e-a1f6-14cecc285a76",
   "metadata": {},
   "source": [
    "## L10.3. Feedback in a first order system.\n",
    "\n",
    "### Feedback is everywhere! Some systems are pure feedback. The trick is to learn to use it and not get hurt by it.\n",
    "\n",
    "### ***Example 3.1***   \n",
    "### Let's model a salmon farm. The parameters are\n",
    "### $x(t)$ = population of salmon at time $t$\n",
    "### $y(t)$ = rate at which salmon are added to the farm (stocked) minus the rate at which they are removed (harvested).\n",
    "### $k$ = natural growth rate of salmon.\n",
    "\n",
    "### The equation is then\n",
    "## $$ \\dot{x}(t) = y(t) + k x(t) $$\n",
    " \n",
    "### You can see the feedback loop here: the current population of salmon affects the rate of growth of the salmon population.\n",
    "\n",
    "### Let's begin by supposing that the natural death rate and birth rate are in equilibrium; so $k=0$, and $\\dot{x} = y$. This is certainly simple to solve!\n",
    "## $$ x(t) = \\int_{0}^{t} y(t) dt $$\n",
    " \n",
    "### Let's re-express this in the frequency domain, by applying Laplace transform to the equation:\n",
    "## $$ s X(s) = Y(s) $$\n",
    " \n",
    "### The system function is the output over the input in the frequency domain:\n",
    "## $$ H(s) = \\frac{1}{s} $$\n",
    " \n",
    "### so we can represent this system by the block diagram\n",
    "![img](img/s71.png)\n",
    "\n",
    "### The block containing $\\displaystyle \\frac{1}{s}$ is an “integrator.\" It is the $s$-domain representation for the operation that sends a signal to its “integral up to time $t$,\" as in the equation above.\n",
    "\n",
    "### This is an “open-loop system\"; there is no feedback. But now suppose that $k$ is nonzero.\n",
    "\n",
    "### We can represent the effect of the current population as follows:\n",
    "![img](img/s72.png) \n",
    "\n",
    "### This is a “closed loop\" system, exhibiting feedback.\n",
    "\n",
    "### Let's read the diagram. It says that $X(s)$ is the product of $\\displaystyle \\frac{1}{s}$ with the signal coming into the $\\displaystyle \\frac{1}{s}$ block. That signal has two parts: $Y(s)$, and $k$ times $X(s)$. That is,\n",
    "## $$ X(s) = \\frac{1}{s} \\left(Y(s) + k X(s)\\right) $$\n",
    " \n",
    "### Solving for $X(s)$, we find:\n",
    "## $$ H(s) = \\frac{1}{s-k} $$\n",
    " \n",
    "### This is indeed the system function of the full salmon system!"
   ]
  },
  {
   "cell_type": "markdown",
   "id": "1203988d-20f3-411b-add5-1249e3f737c4",
   "metadata": {},
   "source": []
  }
 ],
 "metadata": {
  "kernelspec": {
   "display_name": "Python 3",
   "language": "python",
   "name": "python3"
  },
  "language_info": {
   "codemirror_mode": {
    "name": "ipython",
    "version": 3
   },
   "file_extension": ".py",
   "mimetype": "text/x-python",
   "name": "python",
   "nbconvert_exporter": "python",
   "pygments_lexer": "ipython3",
   "version": "3.8.8"
  }
 },
 "nbformat": 4,
 "nbformat_minor": 5
}
