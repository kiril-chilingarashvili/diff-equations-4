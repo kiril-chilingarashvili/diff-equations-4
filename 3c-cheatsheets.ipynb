{
 "cells": [
  {
   "cell_type": "markdown",
   "id": "c98090bc-76e5-46ca-ab5a-84cceea7e5a6",
   "metadata": {},
   "source": [
    "# Unit 3: Step and Impulse Response and Feedback, Part c - Feedback"
   ]
  },
  {
   "cell_type": "markdown",
   "id": "813e82b7-4a88-432f-bf16-d048a8cca811",
   "metadata": {},
   "source": [
    "## L10.2. Introduction to feedback\n",
    "\n",
    "### Feedback is everywhere! You couldn't walk or ride a bicycle without the constant use of feedback. We have seen the example of acoustic feedback, which is often thought of as an annoyance. But the real power and interest in the feedback concept is its usefulness in stabilizing systems.\n",
    "\n",
    "### We'll begin with a couple of examples designed to drive home the point that systems we already know well can be viewed as containing feedback loops."
   ]
  },
  {
   "cell_type": "markdown",
   "id": "31f8d227-926f-484e-a1f6-14cecc285a76",
   "metadata": {},
   "source": []
  }
 ],
 "metadata": {
  "kernelspec": {
   "display_name": "Python 3",
   "language": "python",
   "name": "python3"
  },
  "language_info": {
   "codemirror_mode": {
    "name": "ipython",
    "version": 3
   },
   "file_extension": ".py",
   "mimetype": "text/x-python",
   "name": "python",
   "nbconvert_exporter": "python",
   "pygments_lexer": "ipython3",
   "version": "3.8.8"
  }
 },
 "nbformat": 4,
 "nbformat_minor": 5
}
