{
 "cells": [
  {
   "cell_type": "markdown",
   "id": "23157eee-549e-42c4-8fc4-c8bc4819f269",
   "metadata": {},
   "source": [
    "# Unit 4: Convolution"
   ]
  },
  {
   "cell_type": "markdown",
   "id": "80961915-3970-47b4-beaf-4addf201614f",
   "metadata": {},
   "source": [
    "### L11.2. Why convolution?\n",
    "\n",
    "### We have learned to determine the system response of LTI systems by using the Laplace transform to convert the problem to a simple algebraic relation in the frequency domain. This is effective, and this method reveals important features of the system response, especially about its long term behavior.\n",
    "\n",
    "### This method depends on the observation that the system function $H(s)$ is the Laplace transform of the unit impulse response (or “weight function\") $h(t)$. This implies that the Laplace transform of the system response (with rest initial conditions) to an input signal $f(t)$ is simply the product\n",
    "## $$ X(s) = H(s) = F(s) $$\n",
    " \n",
    "### In this lecture we will analyze the relationship between the unit impulse response, the input signal, and the system response (with rest initial conditions) directly in the time domain. The result can be written as\n",
    "## $$ x(t) = h(t) * f(t) $$\n",
    " \n",
    "### where the asterisk denotes a new “product operation\" on signals, known as ***convolution***.\n",
    "\n",
    "### So one way to define convolution is by means of the Laplace transform:\n",
    "## $$ \\mathcal{L}(h(t) * f(t); s) = H(s) F(s) $$\n",
    " \n",
    "### Here $h(t)$ and $f(t)$ can be pretty much any pair of signals."
   ]
  },
  {
   "cell_type": "markdown",
   "id": "4870676c-63ab-43fe-8469-192fbf462d13",
   "metadata": {},
   "source": [
    "## L11.3. Convolution.\n",
    "\n",
    "### The integral definition of convolution is\n",
    "## $$ f(t) * h(t) = \\int_{0}^{t} f(\\tau) h(t-\\tau) d\\tau $$\n",
    " \n",
    "### (Some motivation for this formula can be found on the last tab of this lecture.)"
   ]
  },
  {
   "cell_type": "markdown",
   "id": "a2bbc443-c902-46d6-bb74-3cc45209abaf",
   "metadata": {},
   "source": [
    "## L11.4. Farm run-off and convolution.\n",
    "\n",
    "### To repeat, convolution may also be defined as the following integral:\n",
    "## $$ f(t) * h(t)  \\int_{0}^{t} f(\\tau) h(t-\\tau) d\\tau $$\n",
    " \n",
    "### We confess that this formula is at first rather hard to understand. The following story may help elucidate it.\n",
    "\n",
    "### Phosphate fertilizer is applied seasonally to the ground in a certain farm. Some of the fertilizer runs off into a lake, where it undergoes natural decay (by chemical process or being carried away by an outflow from the lake).\n",
    "\n",
    "### We can model this situation as follows: Write $f(t)$ for the rate at which phosphate is entering the lake at time $t$ (in kg/year). Write $x(t)$ for the phosphate load in the lake (in kg). Write $a$ for the rate of natural decay of the phosphate in the lake. We then have a simple linear model for this system:\n",
    "## $$ \\dot{x} + ax = f(t) $$\n",
    " \n",
    "### The input signal is $f(t)$; the system response is $x(t)$. Suppose that at $t=0$ there is no phosphate in the lake at all; this is rest initial conditions.\n",
    "\n",
    "### Let's fix a moment in time, after the system has run for a while and try to evaluate $x$ at that instant. We will denote the fixed time we are looking at by $t$. This is dangerous notation, because we really want $t$ to be \"fixed\" for the moment. We will determine the amount of phosphate, $x(t)$, in the lake at time $t$ using the principle of superposition.\n",
    "\n",
    "### The phosphate added to the lake at each moment between time 0 and time $t$ makes a contribution to the value of $x(t)$. We need another symbol for these intermediate times; let's use the Greek letter $\\tau$.\n",
    "\n",
    "### Begin by thinking about the contribution to $x(t)$ made by the phosphate added to the lake right at the beginning – say between time $0$ and time $\\Delta \\tau$, where $\\Delta \\tau$ is very small. The amount of phosphate added in that time interval is close to $f(0) \\Delta \\tau$: the rate of deposition at time 0, times the amount of time elapsed. But not all this phosphate is still present at the later time $t$. It has decayed according to the natural decay process. So at time $t$ this first time interval contributes\n",
    "## $$ f(0) \\Delta \\tau \\cdot e^{-at} $$\n",
    " \n",
    "### kilograms to the value of $x(t)$.\n",
    "\n",
    "### Now think about a later small time interval, still between 0 and $t$; say between time $\\tau$ and time $\\tau + \\Delta \\tau$. The value of the input signal is $f(\\tau)$, so in this time interval some $f(\\tau)\\Delta \\tau$ kg is added to the lake. But not all of this is still present at the later time $t$. How much time has elapsed between time $\\tau$ and the later time $t$? Answer: $t-\\tau$. So the phosphate added around time $\\tau$ has been reduced by the factor $e^{-a(t-\\tau)}$; the contribution to the value $x(t)$ is\n",
    "## $$ f(\\tau) \\Delta \\tau \\cdot e^{-a(t-\\tau)} $$\n",
    " \n",
    "### kilograms.\n",
    "\n",
    "### The value $x(t)$ is the sum of these small contributions. For $\\Delta \\tau$ sufficiently small, this sum becomes indistinguishable from an integral; the only notational change is to replace $\\Delta \\tau$ by $d\\tau$ (and place it at the end of the product. The integral runs from $\\tau=0$ to $\\tau=t$:\n",
    "## $$ x(t) = \\int_{0}^{t} f(\\tau) e^{-a(t-\\tau)} $$\n",
    " \n",
    "### This is the ***convolution integral***.\n",
    "\n",
    "### We can recognize the function $e^{-a\\tau}$ as the unit impulse response for the differential operator in our system, $D+aI$:\n",
    "## $$ h(\\tau) = u(\\tau) e^{-a\\tau} $$\n",
    " \n",
    "### In the integral, $t>\\tau$, so we never evaluate $e^{-a\\tau}$ at negative values of $\\tau$, and so the step function $u(\\tau)$ has no impact."
   ]
  },
  {
   "cell_type": "markdown",
   "id": "35ac22db-6601-4e87-9dcd-b0731f56ba0d",
   "metadata": {},
   "source": [
    "### ***Mathlet and general statement***.\n",
    "\n",
    "### We hope this story helps to justify and explain the terms in the convolution integral. To visualize this process more clearly, please use the mathlet ***Convolution: Accumulation***."
   ]
  },
  {
   "cell_type": "code",
   "execution_count": 1,
   "id": "cc4158b6-737c-4eb1-94a9-37ee1be379e6",
   "metadata": {
    "jupyter": {
     "source_hidden": true
    },
    "tags": []
   },
   "outputs": [
    {
     "data": {
      "text/html": [
       "<iframe width=\"900\" height=\"650\" src=\"https://1803mathlets.netlify.app/convaccum\" frameborder=\"0\" allow=\"accelerometer; autoplay; clipboard-write; encrypted-media; gyroscope; picture-in-picture\" allowfullscreen></iframe>  \n"
      ],
      "text/plain": [
       "<IPython.core.display.HTML object>"
      ]
     },
     "metadata": {},
     "output_type": "display_data"
    }
   ],
   "source": [
    "%%html\n",
    "<iframe width=\"900\" height=\"650\" src=\"https://1803mathlets.netlify.app/convaccum\" frameborder=\"0\" allow=\"accelerometer; autoplay; clipboard-write; encrypted-media; gyroscope; picture-in-picture\" allowfullscreen></iframe>  "
   ]
  },
  {
   "cell_type": "markdown",
   "id": "70612ecd-0c28-4b3f-9ac3-5b51cd83159d",
   "metadata": {},
   "source": [
    "### Select as Signal $f(t) = 1 + \\cos(bt)$ and as weight function $g(t) = e^{-at}$. Recall that the weight function is the unit impulse response.\n",
    "\n",
    "### (The mathlet writes $g(t)$ for what we are writing $h(t)$. Also, it takes $a=\\ln(2)$ and $b=2$.)\n",
    "\n",
    "### This replicates the farm run-off scenario.\n",
    "\n",
    "### The lower window shows a graph of the input signal; you can see the seasonal variation in the rate of run-off.\n",
    "\n",
    "### Please click on the time slider at $t=3$. Then position the cursor in either window near the vertical line $t=3$. This is near to $t=\\pi$, which is the period of the oscillation, so the value of the input signal $f(t)$ there is about 2.\n",
    "\n",
    "### Now depress the mouse key. Blocks of color appear in both windows."
   ]
  },
  {
   "cell_type": "code",
   "execution_count": 2,
   "id": "0c418d09-e5f9-4c6c-8809-3fa619023c2a",
   "metadata": {
    "jupyter": {
     "source_hidden": true
    },
    "tags": []
   },
   "outputs": [
    {
     "data": {
      "text/html": [
       "<iframe width=\"560\" height=\"315\" src=\"https://www.youtube.com/embed/JbuG6u2ko_0\" title=\"YouTube video player\" frameborder=\"0\" allow=\"accelerometer; autoplay; clipboard-write; encrypted-media; gyroscope; picture-in-picture\" allowfullscreen></iframe>\n"
      ],
      "text/plain": [
       "<IPython.core.display.HTML object>"
      ]
     },
     "metadata": {},
     "output_type": "display_data"
    }
   ],
   "source": [
    "%%html\n",
    "<iframe width=\"560\" height=\"315\" src=\"https://www.youtube.com/embed/JbuG6u2ko_0\" title=\"YouTube video player\" frameborder=\"0\" allow=\"accelerometer; autoplay; clipboard-write; encrypted-media; gyroscope; picture-in-picture\" allowfullscreen></iframe>"
   ]
  },
  {
   "cell_type": "markdown",
   "id": "db08e5b0-05e0-4976-a3b8-8cc62d5f6cfc",
   "metadata": {},
   "source": [
    "### ***Convolution process***\n",
    "\n",
    "### The process we described actually applies verbatim to any LTI system! The time invariance tells us that the system response to a delayed delta function is just the correspondingly delayed impulse response; and linearity lets us apply superposition to get the result. Let us restate the conclusion:\n",
    "\n",
    "### ***The system response (with rest initial conditions) by an LTI system to a signal $f(t)$ is given by convolving with the unit impulse response***:\n",
    "## $$ x(t) = f(t) * w(t) $$\n",
    " \n",
    "### ***Another perspective***.\n",
    "### The signal $f(t)$ can be written as an integral of scaled delta functions:\n",
    "## $$ f(t) = \\int_{0}^{t}f(\\tau) \\delta(t-\\tau) d\\tau $$\n",
    " \n",
    "### (Recall that $t$ is the variable, not $\\tau$.)\n",
    "\n",
    "### By the superposition principle, then, the system response (with rest initial conditions) is the corresponding integral of the system responses to the constituent signals, $f(\\tau) \\delta(t-\\tau) d\\tau$. If $h(t)$ is the system response to $\\delta(t)$, then, by time invariance, the system response to the delayed delta function $\\delta(t-\\tau)$ is $h(t-\\tau)$; so the response to $f(\\tau) \\delta(t-\\tau)d\\tau$ is\n",
    "## $$ f(\\tau) h(t-\\tau) d\\tau $$\n",
    " \n",
    "### Then, by linearity (aka superposition) the system response to the input signal $f(t)$ is\n",
    "## $$ x(t) = \\int_{0}^{t} f(\\tau) h(t-\\tau) d\\tau $$\n"
   ]
  },
  {
   "cell_type": "markdown",
   "id": "37a844ed-4cf5-4f1a-a03c-8f3c1f13f521",
   "metadata": {},
   "source": []
  }
 ],
 "metadata": {
  "kernelspec": {
   "display_name": "Python 3",
   "language": "python",
   "name": "python3"
  },
  "language_info": {
   "codemirror_mode": {
    "name": "ipython",
    "version": 3
   },
   "file_extension": ".py",
   "mimetype": "text/x-python",
   "name": "python",
   "nbconvert_exporter": "python",
   "pygments_lexer": "ipython3",
   "version": "3.8.8"
  }
 },
 "nbformat": 4,
 "nbformat_minor": 5
}
