{
 "cells": [
  {
   "cell_type": "markdown",
   "id": "d5b8428a-eb9d-4e6b-a4b6-513f6d3b25f5",
   "metadata": {},
   "source": [
    "# Unit 1: Review Differential Equations"
   ]
  },
  {
   "cell_type": "markdown",
   "id": "243798cf-1b2f-4128-8f58-ea2b6f2a9774",
   "metadata": {},
   "source": [
    "## A mass/spring/dashpot system.\n",
    "\n",
    "### To gain an appreciation for the kind of question we are discussing, study the Mathlet below. It represents a mass/spring/dashpot system. We are interested in how the orange mass moves. The spring is attached to a wall, and the far end of the dashpot is being moved.\n",
    "\n",
    "### In analyzing any system, we have to specify the ***input signal*** and the output signal or system response. Here we declare the position of the dashpot piston to be the input signal $y(t)$, and the position of the mass, $x(t)$, to be the system response. The applet specifies that the input signal is sinusoidal; indeed it is given by $\\cos(\\omega t)$, with amplitude 1 and angular frequency $\\omega$. What you observe is that the motion of the mass, the system response, is ***also sinusoidal***, with the ***same period***. This sinusoidal system response is the \"steady state response.\"\n",
    "\n",
    "### We can adjust the angular frequency $\\omega$ using a slider. The Mathlet reminds us that the period is given by $\\frac{2\\pi}{\\omega}$, so that large $\\omega$ means small period, and $\\omega = 1$ means period $2\\pi$. The angular frequency is measured in radians per second. The angular frequency determines the ***frequency***; it is $\\frac{\\omega}{2\\pi}$, measured in cycles per second, or ***Hertz***. We will always prefer the angular frequency because it makes our formulas neater.\n",
    "\n",
    "### There are three \"system parameters\": the mass $m$, the damping constant $b$, and the spring constant $k$. The mass is fixed at $m=1$, but the other two can be adjusted using the sliders. Spend a few minutes now playing with this Javascript Mathlet. You can animate it with the [>>] key under the graphing window.\n",
    "\n",
    "### [Mathlet](https://mathlets1803.surge.sh/ampPhaseSecondOrderII.html): https://mathlets1803.surge.sh/ampPhaseSecondOrderII.html"
   ]
  },
  {
   "cell_type": "markdown",
   "id": "2dca93da-0ba3-4295-9408-718171ad23d8",
   "metadata": {},
   "source": []
  }
 ],
 "metadata": {
  "kernelspec": {
   "display_name": "Python 3",
   "language": "python",
   "name": "python3"
  },
  "language_info": {
   "codemirror_mode": {
    "name": "ipython",
    "version": 3
   },
   "file_extension": ".py",
   "mimetype": "text/x-python",
   "name": "python",
   "nbconvert_exporter": "python",
   "pygments_lexer": "ipython3",
   "version": "3.8.8"
  }
 },
 "nbformat": 4,
 "nbformat_minor": 5
}
