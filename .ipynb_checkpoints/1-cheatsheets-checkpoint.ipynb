{
 "cells": [
  {
   "cell_type": "markdown",
   "id": "d5b8428a-eb9d-4e6b-a4b6-513f6d3b25f5",
   "metadata": {},
   "source": [
    "# Unit 1: Review Differential Equations"
   ]
  },
  {
   "cell_type": "markdown",
   "id": "243798cf-1b2f-4128-8f58-ea2b6f2a9774",
   "metadata": {},
   "source": [
    "## A mass/spring/dashpot system.\n",
    "\n",
    "### To gain an appreciation for the kind of question we are discussing, study the Mathlet below. It represents a mass/spring/dashpot system. We are interested in how the orange mass moves. The spring is attached to a wall, and the far end of the dashpot is being moved.\n",
    "\n",
    "### In analyzing any system, we have to specify the ***input signal*** and the output signal or system response. Here we declare the position of the dashpot piston to be the input signal $y(t)$, and the position of the mass, $x(t)$, to be the system response. The applet specifies that the input signal is sinusoidal; indeed it is given by $\\cos(\\omega t)$, with amplitude 1 and angular frequency $\\omega$. What you observe is that the motion of the mass, the system response, is ***also sinusoidal***, with the ***same period***. This sinusoidal system response is the \"steady state response.\"\n",
    "\n",
    "### We can adjust the angular frequency $\\omega$ using a slider. The Mathlet reminds us that the period is given by $\\frac{2\\pi}{\\omega}$, so that large $\\omega$ means small period, and $\\omega = 1$ means period $2\\pi$. The angular frequency is measured in radians per second. The angular frequency determines the ***frequency***; it is $\\frac{\\omega}{2\\pi}$, measured in cycles per second, or ***Hertz***. We will always prefer the angular frequency because it makes our formulas neater.\n",
    "\n",
    "### There are three \"system parameters\": the mass $m$, the damping constant $b$, and the spring constant $k$. The mass is fixed at $m=1$, but the other two can be adjusted using the sliders. Spend a few minutes now playing with this Javascript Mathlet. You can animate it with the [>>] key under the graphing window.\n",
    "\n",
    "### [Mathlet](https://mathlets1803.surge.sh/ampPhaseSecondOrderII.html): https://mathlets1803.surge.sh/ampPhaseSecondOrderII.html\n",
    "<iframe border=\"0\" src=\"https://mathlets1803.surge.sh/ampPhaseSecondOrderII.html\"></iframe>"
   ]
  },
  {
   "cell_type": "code",
   "execution_count": 17,
   "id": "2632ba3d-3300-4b33-b574-5a5e2e27ded9",
   "metadata": {
    "jupyter": {
     "source_hidden": true
    },
    "tags": []
   },
   "outputs": [
    {
     "data": {
      "text/html": [
       "<iframe width=\"900\" height=\"650\" src=\"https://mathlets1803.surge.sh/ampPhaseSecondOrderII.html\" title=\"YouTube video player\" frameborder=\"0\" allow=\"accelerometer; autoplay; clipboard-write; encrypted-media; gyroscope; picture-in-picture\" allowfullscreen></iframe>\n"
      ],
      "text/plain": [
       "<IPython.core.display.HTML object>"
      ]
     },
     "metadata": {},
     "output_type": "display_data"
    }
   ],
   "source": [
    "%%html\n",
    "<iframe width=\"900\" height=\"650\" src=\"https://mathlets1803.surge.sh/ampPhaseSecondOrderII.html\" title=\"YouTube video player\" frameborder=\"0\" allow=\"accelerometer; autoplay; clipboard-write; encrypted-media; gyroscope; picture-in-picture\" allowfullscreen></iframe>"
   ]
  },
  {
   "cell_type": "markdown",
   "id": "c30b249f-c3e0-4f39-865e-569284337a1c",
   "metadata": {},
   "source": [
    "## Gain\n",
    "### The ***gain*** of an LTI system is measured separately for each input frequency $\\omega$:\n",
    "## $$ \\text{gain} = \\frac{\\text{amplitude of system response}}{\\text{amplitude of input signal}} $$\n",
    "### where the input signal is a sinusoid of frequency $\\omega$. In the aboove Mathlet, the amplitude of the input signal is fixed at 1, so the gain equals the amplitude of the sinusoidal system response."
   ]
  },
  {
   "cell_type": "markdown",
   "id": "a150dd2c-d295-4b69-b601-2fbecd6584f9",
   "metadata": {},
   "source": [
    "## Resonant frequency\n",
    "### The angular frequency at which the gain is maximal is the \"resonant angular frequency\" $\\omega_r$.\n",
    "## $$ \\omega_r = \\sqrt{k} $$"
   ]
  },
  {
   "cell_type": "markdown",
   "id": "72659690-a1ca-476f-a2db-f8e7773de259",
   "metadata": {},
   "source": [
    "## Conclusions and what's next\n",
    "\n",
    "### In the rest of this lecture we will remind you how we model systems like the one in the above activities. This allows us to answer questions about gain, and many other analogous questions, by computation. Some of your discoveries about the system in these will be addressed in Lecture 2. In Lecture 2, we see that this example is a mechanical analogue of an extremely simple AM radio receiver, and the analysis we carry out determines important features of the radio, such as the frequency it is tuned to and how sharp the tuning is.\n",
    "\n",
    "### ***Remark 3.1***\n",
    "### Notice that the phase lag becomes zero at the resonant frequency. We'll be able to explain why. (This is a special feature of this system.)\n",
    "\n",
    "### ***Note about notation***: \n",
    "### Almost always, in this course, the independent variable is time, denoted $t$. Functions of time might be denoted $x(t)$, $y(t)$, $z(t)$, $f(t)$; or, for short, $x,y,z,f$. As you just saw in the examples we use the notation\n",
    "## $$ \\dot{x} = \\frac{dx}{dt}, \\quad \\ddot{x} = \\frac{d^2x}{dt^2} $$"
   ]
  },
  {
   "cell_type": "markdown",
   "id": "ff7ca7e8-3e8b-4612-9728-45770c05c7b4",
   "metadata": {},
   "source": [
    "## Modeling the system.\n",
    "\n",
    "### An important part of 18.031x, and of this course, is the process of modeling a mechanical or electrical system using ordinary differential equations. The basic process has the following steps.\n",
    "\n",
    "### 1. Draw a diagram of the system.\n",
    "### 2. Identify and give symbols for the parameters of the system with units.\n",
    "### 3. Declare the input signal and the system response.\n",
    "### 4. Decide what you are looking for: a solution satisfying specific initial conditions or a steady state solution.\n",
    "### 5. Write down a differential equation relating the input signal and the system response, e.g. using Newton's \"$F = ma$\" in the mechanical case or Kirchhoff's laws in the electrical case.\n",
    "### 6. Rewrite the equation in standard form.\n",
    "\n",
    "### In our case:\n",
    "### 1. Here is a diagram of the system we are studying.\n",
    "![img](img/model.png)\n",
    "### 2. We have already named the relevant system parameters, on the diagram: $m$, $b$, and $k$. Note we now allow $m$ to take a value other than $1.0$.\n",
    "### 3. The input signal is given by the position of the dashpot piston; we will write $y(t)$ or just $y$ for this function of time. We have to declare also which is the positive direction for $y$: It's value increases when the piston moves up. The system response we are interested in is the position of the mass, which we will write $x(t)$. It's value also increases as the mass moves up. We also declare $x=0$ to be the position at which the spring is relaxed. Thus when $x>0$ the spring is compressed and exerts a force pointing down, while if $x<0$ it is extended and exerts a force pointing up.\n",
    "###    These declarations are arbitrary – we could instead make $y$ become positive when the piston moves ***down***, or say $x=1$ when the spring is relaxed. We would get the same analysis, but expressed somewhat differently. Specifying that the spring is relaxed when $x=0$ simplifies the expressions enough to make it a very good idea.\n",
    "### 4. We will assume that we are working in the linear regime. That is, we assume first that the force of the spring on the mass is proportional to $x$, i.e. $x$ is small enough that Hooke's law is valid. Second we assume that the force exerted by the dashpot on the mass is proportional to the speed so $\\dot{x}$ and $\\dot{y}$ are small enough that the damping effect of the dashpot is linear. Thus \"Hooke's law\" tells us – the force exerted by the spring is proportional to $x$. The force exerted on the mass by the dashpot is proportional to the speed at which the plunger is moving through the piston. The two proportionality constants are $k$ and $b$, so Newton's law gives us\n",
    "## $$ m\\ddot{x} = F = -kx-b(\\dot{x}-\\dot{y}) $$\n",
    "### 5. \"Standard form\" means: terms coming from the input signal on the right, and terms coming from the system response on the left. So we have:\n",
    "## $$ m\\ddot{x} + b\\dot{x} + kx = b\\dot{y} $$\n",
    "###    This is the differential equation relating the input signal $y$ and the system response $x$. It is valid whether the input signal is sinusoidal or not, and it allows for non-sinusoidal system responses.\n",
    "### - The model does reflect the assumptions that we could use linear force laws.\n",
    "### - In this modeling process we did not need to assume $m$, $b$, and $k$ were constant. But we will observe this system over a small enough time scale that we may assume that $m$, $b$, and $k$ are effectively constants.\n",
    "\n",
    "### Putting these two assumptions together we get a linear ordinary differential equation with constant coefficients.\n",
    "### A system exhibiting both these hypotheses is called a ***Linear time invariant*** or ***LTI*** system. This entire course revolves around understanding the behavior of LTI systems, based on an analysis of solutions of the corresponding \"LTI\" differential equations"
   ]
  },
  {
   "cell_type": "markdown",
   "id": "142c1db8-a101-4b48-91c5-0025b2763c69",
   "metadata": {},
   "source": [
    "## Activity: Modeling.\n",
    "\n",
    "### Set up the differential equation modeling the following system. It closely approximates the suspension system of a car. The cabin of the car is represented by the mass at the top of the picture. As the car moves along a road, potholes cause the wheels to move up and down; this is represented by vertical motion of the platform at the bottom. The input signal should be the motion of the platform; the system response is the vertical motion of the car cabin.\n",
    "![img](img/model-2.png)\n",
    "### Follow the five-step process described above.\n",
    "\n",
    "### ***Solution***\n",
    "### 1. Here's a diagram.\n",
    "![img](img/model-3.png)\n",
    "### 2. Names of parameters are arbitrary, but what is relevant is the spring constant, the damping constant, and the mass. We will write $k$, $b$, and $m$ for them respectively. (To be really thorough, one should also declare units!)\n",
    "### 3. As we did earlier, let's write $y$ for the input signal – the position of the platform at bottom – and $x$ for the system response, the position of the mass. Both increase as you move up. The relevant normalization in this case is to require that $x-y=0$ when the force of gravity acting downwards is exactly balanced by the force of the spring acting upwards. Hence we say that in this position, the spring is relaxed, and ignore the force of gravity.\n",
    "### 4. There are two forces acting on the mass: the spring, with force $-k(x-y)$, and the dashpot, with force $-b(\\dot{x}-\\dot{y})$. So\n",
    "## $$ m\\ddot{x} = F = -k(x-y)-b(\\dot{x}-\\dot{y}) $$\n",
    "### 5. In standard form, this is\n",
    "## $$ m\\ddot{x} + b\\dot{x}+kx=ky+b\\dot{y} $$\n",
    "\n"
   ]
  },
  {
   "cell_type": "markdown",
   "id": "d5791da0-1540-4e37-84fb-cd09f21d7086",
   "metadata": {},
   "source": [
    "## Operator notation.\n",
    "\n",
    "### It is very useful to write differential equations with constant coefficients, like the ones we have just seen, using \"operator notation.\" In this notation, $D$ stands for Differentiation with respect to time:\n",
    "## $$ D = \\frac{d}{dt},\\quad Dx = \\frac{dx}{dt} = \\dot{x} $$\n",
    "### We'll also write $I$ for the Identity operator, so $Ix = x$. Then\n",
    "## $$ D^2x = \\frac{d}{dt}\\frac{d}{dt}x = \\frac{d^2x}{dt^2} = \\ddot{x},\\,(5D^3-3I)y=5\\frac{d^3y}{dt^3}-3y $$\n",
    "### and so on. Any polynomial\n",
    "## $$ P(s) = a_n s^n + \\cdots + a_1 s + a_0 $$\n",
    "### determines a linear combination of powers of $D$, a ***differential operator*** $P(D)$ with\n",
    "## $$ P(D)x = a_n D^n x + \\cdots + a_1 Dx + a_0 x = a_n \\frac{d^nx}{dt^n} + \\cdots + a_1\\frac{dx}{dt} + a_0 x $$\n",
    "### In these terms, the kind of differential equation we are looking at, relating an input signal $y$ with the system response $x$, has the general form\n",
    "## $$ P(D) x = Q(D)y $$\n",
    "### The polynomials $P$ and $Q$ are the \"characteristic polynomials\" of the system. Thus, in the \"driving through the dashpot\" example,\n",
    "## $$ P(s) = m s^2 + b s + k, \\quad Q(s) = bs $$\n",
    "### and in the automobile suspension example,\n",
    "## $$ P(s) = m s^2 + b s + k, \\quad Q(s) = b s + k $$\n",
    "\n",
    "### The operator notation enforces the two key assumptions we are making about the systems we are studying:\n",
    "### 1. They are ***linear***. This has profound implications about the structure of the collection of system responses, generally captured by the statement of \"superposition.\" For example, if $x_1$ is a system response to the input signal $y_1$, and $x_2$ is a system response to the input signal $y_2$, then the input signal $a_1 y_1 + a_2 y_2$ (where $a_1$ and $a_2$ are constants) has as a response the linear combination $a_1 x_1 + a_2 x_2$.\n",
    "### 2. They are ***time-invariant***. This again has a deep impact on the behavior of system responses. For example, if $x(t)$ is a system response to the input signal $y(t)$, then the delayed input signal $y(t-t_0)$ (where $t_0$ is a constant) has as a system response the delayed function $x(t-t_0)$.\n",
    "\n",
    "### A system exhibiting both these hypotheses is called an ***LTI system***. This entire course revolves around understanding the behavior of LTI systems, based on an analysis of solutions of the corresponding \"LTI\" differential equations."
   ]
  },
  {
   "cell_type": "markdown",
   "id": "ef9a0872-2425-48ff-87d4-4ec077ef61cc",
   "metadata": {},
   "source": [
    "## Sinusoids\n",
    "### Typical input signals of interest will be sinusoidal functions. They are more important than they may seem at first. For one thing, Fourier analysis shows that ***any*** periodic input signal can be expressed as a combination of sinusoids. So by superposition understanding the system response to sinusoids lets us understand the system response to general periodic signals.\n",
    "\n",
    "### In fact, as we'll see, the most important system response to a sinusoidal input signal is almost always again sinusoidal, of the same period. So let's recall the languages surrounding sinusoidal functions. Suppose we have two sinusoids of the same period, as pictured below.\n",
    "![img](img/sinusoid.png)\n",
    "### Think of the blue one is the input signal and the orange one the system response. We can completely describe the system response to this input signal with just two numbers:\n",
    "### (1) The ***gain*** $g$ is the ratio of the output amplitude to the input amplitude.\n",
    "### (2) The ***phase lag*** $\\phi$ is the number of radians the output signal is behind the input signal.\n",
    "### Suppose for example (our \"standard example\") that the input signal is\n",
    "## $$ y(t) = A \\cos(\\omega t) $$\n",
    "### The sinusoidal system response can then be written\n",
    "## $$ x_p(t) = g A \\cos(\\omega t - \\phi) $$\n",
    "### We can also write this in terms of the ***time lag***\n",
    "## $$ t_0 = \\frac{\\phi}{\\omega} = \\frac{\\phi}{2 \\pi} P $$\n",
    "### where $P=\\frac{2\\pi}{\\omega}$ is the period: $x(t) = g y(t-t_0)$.\n",
    "### By linearity and time invariance, it follows that if the input signal $y(t)$ is ***any*** sinusoid of period $P$, the sinusoidal system response is\n",
    "## $$ x_p(t) = g y(t-t_0) $$\n",
    "### for some gain $g\\geq 0$ and some time lag $t_0$ between $0$ and $P$.\n",
    "### So a great deal of energy goes into understanding the gain of a system. The phase lag can also be important, but generally plays a secondary role."
   ]
  },
  {
   "cell_type": "markdown",
   "id": "2dbb5a56-1985-46d8-a137-fbac049124a3",
   "metadata": {},
   "source": [
    "## The complex exponential.\n",
    "\n",
    "### Part of the reason why sinusoids are important in the study of differential equations is their differentiation rules:\n",
    "## $$ \\begin{array} {rcl} D \\cos(\\omega t) & = & -\\omega \\sin(\\omega t) \\\\ D \\sin(\\omega t) & = & \\omega \\cos(\\omega t) \\end{array} $$\n",
    "### These are fairly simple, but not as simple as the exponential differentiation formula\n",
    "## $$ D e^{ct} = c e^{ct} $$\n",
    "### In fact the trigonometric differentiation formulas are contained in the exponential one, provided we let $c$ be a ***complex*** number. We may use ***Euler's formula***\n",
    "## $$ e^{i\\theta} = \\cos(\\theta) + i \\sin(theta) $$\n",
    "### as the ***definition*** of $e^{i\\theta}$ for $\\theta$ real. In the complex plane this is the point on the unit circle making an angle of $\\theta$ with the positive real axis. Setting $\\theta=\\omega t$, we get a complex-valued function of the real parameter $t$. It traces out the unit circle in the complex plane, traversed counterclockwise. We can find its derivative, the velocity:\n",
    "## $$ D e^{i\\omega t} = -\\omega \\sin(\\omega t) + i \\omega \\cos(\\omega t) = i \\omega (\\cos(\\omega t) + i \\sin(\\omega t)) = i \\omega e^{i \\omega t} $$\n",
    "### You can check that the exponential rule\n",
    "## $$ e^{i \\alpha} e^{i \\beta} = e^{i(\\alpha + \\beta)} $$\n",
    "### is equivalent to the addition laws for cosine and sine.\n",
    "\n",
    "### Again enforcing the exponential law, we can define $e^z$ for any complex number $z$: writing $z=a+b i$ with $a$ and $b$ real,\n",
    "## $$ e^z=e^{a+bi} = e^a(\\cos b + i \\sin b) $$\n",
    "### This is the point in the complex plane with polar coordinates\n",
    "## $$ |e^z| = e^a, \\quad \\operatorname{arg}(e^z) = b $$\n",
    "### It follows that\n",
    "## $$ D e^{zt} = z e^{zt} $$\n",
    "### for any complex constant $z$. \n",
    "### In fancy language, you can say that the exponential function $e^{zt}$ is an ***eigenfunction*** with eigenvalue $z$ for the differentiation operator $D$.\n",
    "### If we apply $D$ twice we find\n",
    "## $$ D^2e^{zt} = D(z e^{zt}) = z^2 e^{zt} $$\n",
    "### and so on; so if we have a polynomial $P(z)$, we can compute the effect on $e^{zt}$ of the differential operator $P(D)$:\n",
    "# $$ P(D)e^{zt} = P(z) e^{zt} $$\n",
    "### This is without doubt the most important formula in the course!"
   ]
  },
  {
   "cell_type": "markdown",
   "id": "b125c548-8fb1-4551-93d9-28e27896ee36",
   "metadata": {},
   "source": [
    "## Solution of homogeneous equations.\n",
    "\n",
    "### Our first application of the complex exponential is solving ***homogeneous*** LTI equations: differential equations of the form\n",
    "## $$ P(D)x = 0 $$\n",
    "### For what constants $r$ is $e^{rt}$ a solution to this equation? Using $P(D) e^{rt} = P(r) e^{rt}$, and the fact that $e^{rt}$ is never zero (its magnitude is $e^{at}$ where $a$ is the real part of $r$), we find that $e^{rt}$ is a solution exactly when\n",
    "## $$ P(r) = 0 $$\n",
    "### ***The roots of the characteristic polynomial provide exponential solutions to the homogeneous equation.***\n",
    "\n",
    "### ***Example 1***: $\\dot{x} + kx = 0$. The characteristic polynomial is $P(r) = r + k$; it has one root, namely $r = -k$; so $e^{-kt}$ is the one and only exponential solution. By superposition, any constant multiple of $e^{-kt}$ is again a solution; and they exhaust the set of solutions.\n",
    "\n",
    "### ***Example 2***: $\\ddot{x} + \\omega_n^2 x = 0$. This is the harmonic oscillator, and you know very well that $\\cos(\\omega_n t)$ and $\\sin(\\omega_n t)$ are solutions. By superposition, any linear combination of these two functions is again a solution, and any sinusoid of angular frequency $\\omega_n$ is such a linear combination. So the general real solution to $\\ddot{x}+\\omega_n^2x=0$ is the general sinusoid of angular frequency $\\omega_n$: $A \\cos(\\omega_n t - \\phi)$.\n",
    "\n",
    "### But let's get to this result using the roots of the characteristic polynomial, $P(s) = s^2+\\omega_n^2$. They are $\\pm i \\omega_n$, so we have two exponential solutions, $e^{i\\omega_n t}$ and $e^{-i\\omega_n t}$. Actually, this follows from what we just did using Euler's formula, since it tells us that these two functions are linear combinations of $\\cos(\\omega_n t)$ and $\\sin(\\omega_n t)$.\n",
    "\n",
    "### Conversely, by superposition, any linear combination of $e^{i \\omega_n t}$ and $e^{-i \\omega_n t}$ is again a solution; and since we are now talking about complex-valued functions we mean any linear combination with ***complex*** coefficients. These two functions are complex conjugates of each other. For any complex number, say $z$,\n",
    "## $$ \\operatorname{Re} z = \\frac{z+\\bar{z}}{2}, \\quad \\operatorname{Im} z = \\frac{z-\\bar{z}}{2i} $$\n",
    "### so, with $z=e^{i\\theta}$, we get the \"inverse Euler formulas\"\n",
    "## $$ \\cos(\\theta) = \\frac{e^{i\\theta}+e^{-i\\theta}}{2}, \\quad \\sin(\\theta) = \\frac{e^{i\\theta}-e^{-i\\theta}}{2i} $$\n",
    "### With $\\theta = \\omega_n t$, we find again that $\\cos(\\omega_n t)$ and $\\sin(\\omega_n t)$ are solutions."
   ]
  },
  {
   "cell_type": "markdown",
   "id": "106ba2fa-3ff1-4d94-a1a1-4f15cb3ce59e",
   "metadata": {},
   "source": [
    "## The exponential response formula.\n",
    "\n",
    "### We now address the inhomogeneous situation,\n",
    "## $$ P(D)x=f(t) $$\n",
    "### In our applications, $f(t)$ will arise as $Q(D)y$ where $y$ is the input signal. We will be mainly interested in the case of sinusoidal input signal, which we will treat by considering complex exponential input signals $e^{i\\omega t}$. According to the formula\n",
    "## $$ Q(D) e^{rt} = Q(r) e^{rt} $$ \n",
    "### the resulting right hand side $f(t)$ will also be exponential, or a constant (perhaps complex) multiple of an exponential function. Generally $r$ will be purely imaginary, $t=i\\omega$, but for the moment let's let it be any complex constant. Because of linearity, we might as well take the multiplicative constant to be 1.\n",
    "\n",
    "### So we want to find a solution of\n",
    "## $$ P(D) x = e^{rt} $$\n",
    "### Just as in the homogeneous case, let's try for an exponential solution. But now instead of leaving the exponential constant unknown and solving for it, as we did before, we will try for a multiple of the ***same*** exponential function $e^{rt}$. What is unknown is not the exponential constant but rather the multiplicative constant out front. So plug in $x=Ae^{rt}$, with the same $r$ but unknown $A$:\n",
    "## $$ e^{rt} = P(D) x = P(D) (Ae^{rt}) = A P(D)e^{rt} = A P(r) e^{rt} $$\n",
    "### For this to work, we must have $A P(r) = 1$, or $A=\\frac{1}{P(r)}$. We have discovered the\n",
    "### ***Exponential Response Formula (ERF)***: A solution to $P(D)x = e^{rt}$ is given by\n",
    "## $$ x_p(t) = \\frac{e^{rt}}{P(r)} $$\n",
    "### provided that $P(r) \\neq 0$.\n",
    "\n",
    "### ***Example***. Find a solution to the equation\n",
    "## $$ \\ddot{x} + 2\\dot{x}+2x=3e^{-3t} $$\n",
    "### The characteristic polynomial is $P(r) = r^2+2r+2$, and the exponential constant is $r=-3$. So $P(-3) = (-3)^2+2(-3)+2=5$, and\n",
    "## $$ x_p = \\frac{3 e^{-3t}}{5} $$\n"
   ]
  },
  {
   "cell_type": "markdown",
   "id": "cad8eefc-fc93-470d-8e73-ed84aceaf58c",
   "metadata": {},
   "source": []
  }
 ],
 "metadata": {
  "kernelspec": {
   "display_name": "Python 3",
   "language": "python",
   "name": "python3"
  },
  "language_info": {
   "codemirror_mode": {
    "name": "ipython",
    "version": 3
   },
   "file_extension": ".py",
   "mimetype": "text/x-python",
   "name": "python",
   "nbconvert_exporter": "python",
   "pygments_lexer": "ipython3",
   "version": "3.8.8"
  }
 },
 "nbformat": 4,
 "nbformat_minor": 5
}
