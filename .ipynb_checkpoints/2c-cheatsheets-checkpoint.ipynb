{
 "cells": [
  {
   "cell_type": "markdown",
   "id": "7cf149a3-d053-48b5-aaaf-251d53b18abf",
   "metadata": {},
   "source": [
    "# Unit 2: Laplace transform, Part c - Rules and applications"
   ]
  },
  {
   "cell_type": "markdown",
   "id": "d25bf686-f96c-4772-a481-7a7e01d04663",
   "metadata": {},
   "source": [
    "## L6.2. Review.\n",
    "\n",
    "### The Laplace transform carries functions of time, $f(t)$ for $t\\geq 0$, to complex functions of a complex variable $s$. The integral definition is\n",
    "## $$ \\mathcal{L} (f(t);s) = \\int_{0}^\\infty f(t) e^{-st} dt $$\n",
    "### Laplace transform technique depends upon developing two lists: A list of ***rules*** and a list of ***computations***. We will add a lot more entries today. So far, these two lists look like this.\n",
    "\n",
    "### ***Rules***.\n",
    "### 1. ***Linearity***.\n",
    "## $$ af(t)+bg(t) \\rightsquigarrow a F(s) + b G(s) $$\n",
    "### 2. ***Inverse transform***. $F(s)$ essentially determines $f(t)$.\n",
    "### 3. ***$t$-derivative rules***. For a function  of exponential type,\n",
    "## $$ f'(t) \\rightsquigarrow sF(s) - f(0) $$\n",
    "### and\n",
    "## $$ f^{(n)}(t) \\rightsquigarrow s^n F(s) - \\left( f(0) s^{n-1} + f'(0) s^{n-2} + \\cdots + f^{(n-1)} (0)  \\right) $$\n",
    "\n",
    "### ***Calculations***.\n",
    "## $$ \\boxed{\\begin{array} {rclr} 1 & \\rightsquigarrow & \\displaystyle \\frac{1}{s} & \\operatorname{ Re}(s)>0 \\\\ e^{rt} & \\rightsquigarrow & \\displaystyle \\frac{1}{s-r} & \\operatorname{ Re}(s)>\\operatorname{ Re}(r) \\\\ \\cos(\\omega t) & \\rightsquigarrow & \\displaystyle \\frac{s}{s^2+\\omega^2} & \\operatorname{ Re}(s)>0 \\\\ \\sin(\\omega t) & \\rightsquigarrow & \\displaystyle  \\frac{\\omega}{s^2+\\omega^2} & \\operatorname{ Re}(s)>0 \\\\ t & \\rightsquigarrow & \\displaystyle \\frac{1}{s^2} & \\operatorname{ Re}(s)>0  \\end{array}} $$"
   ]
  },
  {
   "cell_type": "markdown",
   "id": "668bdb9b-0407-49e2-862b-020e25d25617",
   "metadata": {},
   "source": [
    "## L6.3. s-derivative rule.\n",
    "\n",
    "### We definitely need to expand our table of calculations: at this point we don't even know how to solve $\\ddot{x} = 1$ with rest initial conditions! It leads to $\\displaystyle s^2X = \\frac{1}{s}$, and we don't have $\\displaystyle \\frac{1}{s^3}$ anywhere in our table. It's not too different from $\\displaystyle \\frac{1}{s^2}$, though; in fact\n",
    "## $$ \\frac{1}{s^3} = -\\frac{1}{2}\\frac{d}{ds}\\frac{1}{s^2} $$\n",
    "### So let's go back to the integral definition and try to recognize what $F'(s)$ is in general:\n",
    "## $$ \\begin{array} {rcl} F'(s) & = & \\displaystyle \\frac{d}{ds} \\int_{0}^\\infty f(t) e^{-st} dt \\\\ \\, & = & \\displaystyle \\int_0^\\infty f(t) \\frac{d}{ds} e^{-st}dt \\\\ \\, & = & \\displaystyle \\int_0^\\infty f(t) (-t) e^{-st} dt = - \\mathcal{L} (tf(t);s) \\end{array} $$\n",
    "### This gives us a new entry in our table of rules:\n",
    "\n",
    "### ***The $t$-derivative rule***.\n",
    "## $$ tf(t) \\rightsquigarrow  -F'(s) $$\n",
    "### In general, this rule becomes\n",
    "## $$ t^n f(t) \\rightsquigarrow (-1)^n F^{(n)}(s) $$\n",
    "### For example, starting with $1 \\rightsquigarrow s^{-1}$ we find, in sequence,\n",
    "## $$ \\begin{array} {rcl} 1 & \\rightsquigarrow & s^{-1} \\\\ t = t\\cdot 1 & \\rightsquigarrow & \\displaystyle -\\frac{d}{ds} s^{-1} = s^{-2} \\\\ t^2 = t \\cdot t & \\rightsquigarrow  & \\displaystyle - \\frac{d}{ds} s^{-2} = 2s^{-3} \\\\ t^3=t\\cdot t^2 & \\rightsquigarrow  & \\displaystyle -\\frac{d}{ds} (2s^{-3}) = 3 \\cdot 2s^{-4} \\end{array} $$\n",
    "### and in general\n",
    "## $$ t^n \\rightsquigarrow \\frac{n!}{s^{n+1}}, \\quad n=0,1,2,\\ldots $$\n",
    "### Note that these all converge for $\\operatorname{Re}(s) > 0$.\n",
    "\n",
    "### So, to return to $\\ddot{x}=1$ with rest initial conditions, we find\n",
    "## $$ \\begin{array} {rcl} s^2X & = & \\displaystyle \\frac{1}{s} \\\\ X & = & \\displaystyle \\frac{1}{s^3} \\\\ x & = & \\displaystyle \\frac{1}{2} t^2 \\end{array} $$\n",
    "### which is indeed the solution to $\\ddot{x} = 1$ with rest initial conditions $x(0) = 0, \\dot{x}(0)=0 $."
   ]
  },
  {
   "cell_type": "markdown",
   "id": "b883c416-58db-4b91-b8df-9b639de0beee",
   "metadata": {},
   "source": [
    "## L6.4. Resonance.\n",
    "\n",
    "### ***Resonance*** occurs when the input frequency is close to a natural frequency of the system. In that case the periodic system response will have exceptionally large amplitude. In the complete absence of damping (a mathematical possibility) there is no periodic response if the two frequencies coincide.\n",
    "\n",
    "### ***Example 4.1***\n",
    "### Suppose we are driving a spring system through the spring, and there is negligible damping: say\n",
    "## $$ \\ddot{x}+9x=9\\cos(3t) $$\n",
    "### Because the input frequency coincides with the natural frequency of the harmonic oscillator, we are in resonance. There are still solutions, but none of them are periodic. One can be found using complex replacement and the generalized ERF. But we can also find solutions using Laplace transform. As usual with the Laplace transform method, we need to specify initial conditions; let's say that $x(0)=2, \\dot{x}(0)=0$.\n",
    "\n",
    "### Apply $\\mathcal{L} $ to both sides, and remembering the terms arising from the initial condition:\n",
    "## $$ \\begin{array} {rcl} 9\\cos(3t) & \\rightsquigarrow & \\displaystyle \\frac{9s}{s^2+9} \\\\ x & \\rightsquigarrow & X \\\\ \\ddot{x} & \\rightsquigarrow & s^2 X - s x(0) - x'(0) = s^2X-2s \\end{array} $$\n",
    "### we get the algebraic equation in $X$:\n",
    "## $$ (s^2+9)X - 2s = \\frac{9s}{s^2+9} $$\n",
    "### or\n",
    "## $$ X = \\frac{9s}{(s^2+9)^2} + \\frac{2s}{s^2+9} $$\n",
    "### This is already in standard partial fractions form! We need to find the inverse Laplace transform of this expression. The second term is easy, but the first is not in our table. But it is very close to the derivative (with respect to $s$) of $(s^2+9)^{-1}$, which is a known Laplace transform. So let's use the $s$-derivative rule: Since\n",
    "## $$ \\sin(\\omega t) \\rightsquigarrow \\frac{\\omega}{s^2+\\omega^2} $$\n",
    "### we have\n",
    "## $$ \\begin{array} {rcl} t\\sin(\\omega t) & \\rightsquigarrow  & \\displaystyle -\\frac{d}{ds} \\frac{\\omega}{s^2+\\omega^2} \\\\ \\, & = & \\displaystyle \\frac{2\\omega s}{(s^2+\\omega^2)^2} \\end{array} $$ \t\t\t \t \n",
    "### Returning to our original problem, with $\\omega=3$,\n",
    "## $$ \\frac{3}{2} t\\sin(3t) \\rightsquigarrow \\frac{9s}{(s^2+\\omega^2)^2} $$\n",
    "### and we find\n",
    "## $$ x = \\frac{3}{2} t \\sin(3t) + 2\\cos(3t) $$\n",
    "### Just as a check, compute that $x(0) = 2$ and $\\dot{x}(0) = 0$.\n",
    "\n",
    "### The presence of a repeated factor in the denominator of the Laplace transform $X(s)$ is the mark of resonance in the $s$-domain. As you see, in this example one factor came from a characteristic polynomial of the system, the other from the Laplace transform of the input signal. Repeated factors produce repeated roots, and when they occur in the denominator they produce poles of “higher multiplicity\".\n",
    "\n",
    "### ***The $s$-derivative rule and the multiplicity of poles***:\n",
    "## $$ t f(t) \\rightsquigarrow -F'(s) $$\n",
    "### By iterating this, we find\n",
    "## $$ t^k f(t) \\rightsquigarrow (-1)^k F^{(k)}(s) $$\n",
    "### For example, since $e^{rt} \\rightsquigarrow (s-r)^{-1}$,\n",
    "## $$ t^{k-1}e^{rt} \\rightsquigarrow \\frac{(k-1)!}{(s-r)^k} $$\n",
    "### The $s$-derivative rule associates a pole at $s=r$ of multiplicity $k$ with a polynomial of degree $k-1$ times $e^{rt}$."
   ]
  },
  {
   "cell_type": "markdown",
   "id": "71f793fb-4196-466b-afd7-9ff19fba72c8",
   "metadata": {},
   "source": []
  }
 ],
 "metadata": {
  "kernelspec": {
   "display_name": "Python 3",
   "language": "python",
   "name": "python3"
  },
  "language_info": {
   "codemirror_mode": {
    "name": "ipython",
    "version": 3
   },
   "file_extension": ".py",
   "mimetype": "text/x-python",
   "name": "python",
   "nbconvert_exporter": "python",
   "pygments_lexer": "ipython3",
   "version": "3.8.8"
  }
 },
 "nbformat": 4,
 "nbformat_minor": 5
}
