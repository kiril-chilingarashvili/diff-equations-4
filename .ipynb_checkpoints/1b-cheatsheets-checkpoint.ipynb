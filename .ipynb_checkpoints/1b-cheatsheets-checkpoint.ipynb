{
 "cells": [
  {
   "cell_type": "markdown",
   "id": "bddbe9a9-af85-4450-9a7a-2599f1163a32",
   "metadata": {},
   "source": [
    "# Unit 1: Review Differential Equations, Part b"
   ]
  },
  {
   "cell_type": "markdown",
   "id": "e4794297-ba70-417c-840a-f5da54a66c33",
   "metadata": {},
   "source": [
    "## L2.3. Simple RLC Circuits."
   ]
  },
  {
   "cell_type": "markdown",
   "id": "79bb9002-82f3-420d-8307-e20f8994f6c5",
   "metadata": {},
   "source": [
    "### A very simple passive AM radio receiver may be modeled by the following circuit.\n",
    "![img](img/circuit-1.png)\n",
    "\n",
    "### The power source at left is the antenna, being driven by radio waves. The resistor at top is a speaker. The other components are a capacitor, at bottom, and an inductance coil, at right.\n",
    "\n",
    "### We will model this circuit using the same five-step process we used for mechanical systems in Lecture 1.\n",
    "\n",
    "### 1. ***Draw a diagram of the system***. We've already done Step 1!\n",
    "\n",
    "### 2. ***Identify and give symbols for the parameters of the system***. The diagram shows symbols for four standard electronic components. The first step in understanding the diagram is to define an orientation; say that current flows clockwise. Since it's a series circuit, the current through any of the wires is the same; write $I(t)$ for it. Then we can say that the power source, at left, produces a voltage ***increase*** of $V(t)$ volts at time $t$. This voltage increase may vary with time, and may be negative as well as positive. In fact we'll be especially interested in the case in which it is sinusoidal!\n",
    "\n",
    "### The meaning of each of the other components is specified by how the voltage decrease across it is related to the current flowing through it. For us, these relationships define the components. The impact of each component is determined by the constant appearing in these relationships.\n",
    "\n",
    "### - Voltage drop across inductor:\t$V_L(t) = L\\dot{I}(t)$.\n",
    "### - Voltage drop across resistor:\t$V_R(t) = R I(t)$.\n",
    "### - Voltage drop across capacitor: $C \\dot{V}_C(t) = I(t)$.\n",
    "\n",
    "### These components are connected in series, and so their voltage drops are related by Kirchhoff's voltage law: The voltage gain across the power source must equal the sum of the voltage drops across the other components:\n",
    "## $$ V = V_L+V_R+V_C $$\n",
    "\n",
    "### 3. ***Declare the input signal and the system response***. The system is being driven by a signal coming in via antenna. This signal causes a voltage difference across the antenna, and it is reasonable to declare this voltage increase $V(t)$ as the input signal. For system response, we are interested in the loudness of the speaker, which is proportional to the voltage drop across the resistor. So we declare $V_R$ to be the system response.\n",
    "### This means that we want to set up a differential equation relating $V(t)$ to $V_R(t)$.\n",
    "\n",
    "### 4. ***Write down a differential equation relating the input signal and the system response, using Newton's “$F=ma$\" in the mechanical case or Kirchhoff's laws in the electrical case***. Because $\\dot{V}_C$ appears in the definition of a capacitor, it is natural to differentiate Kirchhoff's voltage law, and rewrite in terms of $I$;\n",
    "\n",
    "## $$ \\dot{V} = \\dot{V}_L + \\dot{V}_R + \\dot{V}_C = L\\ddot{I}+R\\dot{I}+\\frac{1}{C} I $$\n",
    "\n",
    "### To make this into an equation relating the input signal $V$ to the system response $V_R$, we just have to remember that $V_R = RI$. So multiply through by $R$ and make this substitution, along with its consequences $\\dot{V}_R = R \\dot{I}$ and $\\ddot{V}_R = R\\ddot{I}$:\n",
    "\n",
    "## $$ R\\dot{V} = L\\ddot{V}_R + R V_R + \\frac{1}{C} V_R $$\n",
    "\n",
    "### Rewrite the equation in standard form. Input and output are already separated; to put this in standard form we just swap sides:\n",
    "\n",
    "## $$ L\\ddot{V}_R + R \\dot{V}_R + \\frac{1}{C} V_R = R\\dot{V}  $$\n",
    " \n",
    "### We're done. But before we discuss consequences, recall the equation we discussed in Lecture 1 describing the spring/mass/dashpot system driven through the dashpot:\n",
    "\n",
    "## $$ m\\ddot{x}+b\\dot{x}+kx = b\\dot{y} $$\n",
    " \n",
    "### These two equations are formally identical in the way they relate input and system response. This reflects a rough parallel between mechanical and electrical systems, in which\n",
    "![img](img/table-1.png)\n",
    "\n",
    "### Rather than trying to develop this as a formal equivalence, though, we think it's best to focus on the fact that the mathematics is identical up to change of notation."
   ]
  },
  {
   "cell_type": "markdown",
   "id": "0d431979-339e-41a8-9ce1-b1a4f047bd7e",
   "metadata": {},
   "source": [
    "## L2.4. Frequency response.\n",
    "\n",
    "### ***Circuits as filters***.\n",
    "### Let's now study the model of the AM radio receiver from the previous page.\n",
    "![img](img/circuit-1.png)\n",
    "\n",
    "### The environment is filled with radio waves, electromagnetic oscillations vibrating at different frequencies. For example,\n",
    "### - many cellphones are broadcast at 1900MHz,\n",
    "### - medium range AM radio in the US is broadcast at 540-1600kHz, and\n",
    "### - FM radio is broadcast at 30-300MHz.\n",
    "\n",
    "### The input signal to our system is a variable voltage increase across the antenna that is a superposition of the results of all these radio waves.\n",
    "\n",
    "### Each AM radio station broadcasts in a small “band\" of frequencies centered at a nominal broadcast frequency. Tuning the radio should allow frequencies near this nominal frequency to pass through to the speaker while suppressing all other frequencies.\n",
    "\n",
    "### We want to design our radio receiver so that its system response to the frequency of the radio station we want to listen to is much larger than the response to other frequencies.\n",
    "\n",
    "### In terms of gain, we can say that we want the gain to be greatest for a specific input frequency – call it $\\omega_r$. The range of frequencies that is allowed through with little diminution is called the “pass band\" of the receiver. To ensure that we don't receive interference from unwanted stations, it is desirable to try to arrange that the pass band is narrow enough to effectively suppress the signals arising from other sources.\n",
    "![img](img/bands-1.png)\n",
    "\n",
    "### A mechanism or circuit designed to suppress all frequencies except those near a specified frequency is called a “filter.\" A radio receiver suppresses signals with both higher and lower frequencies, and thus it is called a “mid-pass filter,\" and the range of frequencies it allows through is called the “pass-band.\"\n"
   ]
  },
  {
   "cell_type": "markdown",
   "id": "fdcb50c9-9f64-47c6-af04-58e16e43edab",
   "metadata": {},
   "source": [
    "### ***LTI systems as filters***\n",
    "### Recall that we modeled this AM radio receiver circuit by the differential equation\n",
    "## $$ L\\ddot{V}_R+R\\dot{V}_R+\\frac{1}{C}V_R = R\\dot{V} $$\n",
    "### that is analogous to the associated mechanical system\n",
    "## $$ m\\ddot{x}+b\\dot{x}+kx=b\\dot{y} $$\n",
    "### In Lecture 1 you made some observations about the mechanical system using the Mathlet Amplitude and Phase 2nd Order II. You discovered through the mathlet that the maximum gain of this system (when $m=1$) for any fixed values of $k$ and $b$, is $g=1$; and that this value occurs when $\\displaystyle \\omega=\\omega_r=\\sqrt{\\frac{k}{m}}$, independent of $b$. If we think of this system as an AM radio receiver, the resonant peak is at the frequency we are tuning the radio to. The resonant value is given by\n",
    "## $$ \\omega_r = \\frac{1}{\\sqrt{LC}} $$\n",
    "### and is independent of the resistance $R$. So this is important information: With inductance fixed, you tune the radio by changing the capacitance. The environment is filled with radio waves at a variety of frequencies. The AM receiver responds weakly to most and relatively strongly only to frequencies at or near the resonant frequency.\n",
    "\n",
    "### There's a general lesson here for LTI systems: it's important to be able to visualize the system response to a whole spectrum of different input frequencies. Since we are interested in the sinusoidal system response, we need to specify only two parameters relative to the input frequency to understand this response completely: the gain and the phase lag. These parameters depend upon the input frequency, but not on the input amplitude and not on the phase of the input relative to some standard signal.\n",
    "\n",
    "### The two main tools that we have for visualizing the gain and phase lag as functions of the frequency are the ***Bode Plot*** and the ***Nyquist Plot***. There are two Bode plots, one for gain and one for phase. The horizontal axis for each plot is frequency, one plot shows how the gain depends on the frequency of the input signal, and the other shows how the phase depends on the frequency of the input signal. "
   ]
  },
  {
   "cell_type": "markdown",
   "id": "faad6da5-7248-44e2-85db-2cb3fb449dea",
   "metadata": {},
   "source": []
  }
 ],
 "metadata": {
  "kernelspec": {
   "display_name": "Python 3",
   "language": "python",
   "name": "python3"
  },
  "language_info": {
   "codemirror_mode": {
    "name": "ipython",
    "version": 3
   },
   "file_extension": ".py",
   "mimetype": "text/x-python",
   "name": "python",
   "nbconvert_exporter": "python",
   "pygments_lexer": "ipython3",
   "version": "3.8.8"
  }
 },
 "nbformat": 4,
 "nbformat_minor": 5
}
