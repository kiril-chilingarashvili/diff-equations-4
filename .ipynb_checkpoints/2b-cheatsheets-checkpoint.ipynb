{
 "cells": [
  {
   "cell_type": "markdown",
   "id": "17f0ff80-8d62-4a12-8b64-fd87d3e2df8c",
   "metadata": {},
   "source": [
    "# Unit 2: Laplace transform, Part b - Application to differential equations"
   ]
  },
  {
   "cell_type": "markdown",
   "id": "937d0454-317a-43fb-880e-dbe1fc357177",
   "metadata": {},
   "source": [
    "## L5.2. Application to differential equations.\n",
    "\n",
    "### The $t$-derivative rule shows that differentiation in the time domain becomes multiplication by $s$ in the frequency domain (up to the annoying initial condition term). This leads to the amazing fact that\n",
    "\n",
    "### ***Fact***: Laplace transform carries differential equations to algebraic equations.\n",
    "\n",
    "### So in using Laplace transform to solve a differential equation, the process is as follows:\n",
    "![img](img/fact.png)\n",
    "\n",
    "### The missing ingredient here is getting back from the $s$-world into the $t$-world. We will do this by using the rules and calculations of the Laplace transform to find $x(t)$ with the desired Laplace transform $X(s)$. To make this work, we need to know the following rule.\n",
    "\n",
    "### ***Inverse rule***. A continuous function $f(t)$ for $t \\geq 0$ is determined by its Laplace transform $F(s)$ (if it exists). We use the notation $\\mathcal{L}^{-1}(F(s);t) = f(t)$ or $\\mathcal{L}^{-1}(F(s)) = f(t)$.\n",
    "\n",
    "### ***Example 2.1***\n",
    "### What function of $t$ has $\\displaystyle \\frac{1}{s-5}$ as its Laplace transform?\n",
    "\n",
    "### ***Solution***: We know that the function $f(t) = e^{5t}$ has $\\displaystyle F(s) = \\frac{1}{s-5}$ as its Laplace transform. Every other continuous function that has this Laplace transform agrees with this one for $t\\geq 5$. We write $\\displaystyle \\mathcal{L}^{-1}\\left( \\frac{1}{s-5} \\right) = e^{5t}$ for $t\\geq 0$."
   ]
  },
  {
   "cell_type": "markdown",
   "id": "35672f25-081a-4a9e-bb23-dbccf1672de3",
   "metadata": {},
   "source": [
    "## L5.3. Example: solving a first order LTI.\n",
    "\n",
    "### ***Example 3.1***\n",
    "### Let's start simple, and solve the first order constant coefficient linear differential equation\n",
    "## $$ \\dot{x} + kx = ky $$\n",
    "### using the Laplace transform. This equation models Newtonian cooling, or the water level in a bay changing under the influence of ocean tides, where $y$ is the external temperature, or the water level outside of the bay. We'll assume that the input signal is given by\n",
    "## $$ y = e^{-t} $$\n",
    "### In solving an ODE using Laplace transform, one must specify initial ($t=0$) conditions. So here we suppose that $x(0)$ is known.\n",
    "\n",
    "### ***Solution***:\n",
    "\n",
    "### ***Step 1***. Apply $\\mathcal{L}$ to the differential equation:\n",
    "## $$ (sX(s) - x(0)) + k X(s) = k Y(s) $$\n",
    "### The result is a linear equation for $X(s)$, so it is easy to solve.\n",
    "\n",
    "### ***Step 2***. Solve the equation for $X(s)$.\n",
    "### First put all terms not involving $X(s)$ as a factor on the right:\n",
    "## $$ (s+k) X(s) = x(0) + k Y(s) $$\n",
    "### Then solve:\n",
    "## $$ X(s) = \\frac{x(0) + k Y(s)}{s+k} $$\n",
    "\n",
    "### ***Step 3***. \n",
    "### Find the inverse Laplace transform $\\mathcal{L}^{-1}(X(s);t)$.\n",
    "### Our input signal is $y(t) = e^{-t}$. We know the Laplace transform of $y(t)$ is given by\n",
    "## $$ Y(s) = \\frac{1}{s+1} $$\n",
    "### so\n",
    "## $$ X(s) = \\frac{x(0)+\\frac{k}{s+1}}{s+k} = \\frac{x(0)}{s+k} + \\frac{k}{(s+1)(s+k)} $$\n",
    "### We want to find a function $x(t)$ whose Laplace transform is $X(s)$. By the Linearity rule, we can treat each term separately. The first one is easy; by linearity again, and using the known Laplace transform for an exponential function, we have\n",
    "## $$ x(0) e^{-kt} \\rightsquigarrow \\frac{x(0)}{s+k} $$\n",
    "### The second term is trickier, and actually has to be treated in two cases according to whether $k\\neq 1$ or $k=1$. For now we'll do the more generic one and suppose that $k\\neq 1$.\n",
    "\n",
    "### The relevant technique is now the method of partial fractions, which is important enough to get its own section. For the moment, we'll just recall the simplest case, which is what we need here: if $k\\neq 1$, there are unique numbers $a$ and $b$ such that\n",
    "## $$ \\frac{k}{(s+1)(s+k)} = \\frac{a}{s+1} + \\frac{b}{s+k} $$\n",
    "### The traditional way to find $a$ and $b$ is to cross multiply and set coefficients equal:\n",
    "## $$ \\frac{k}{(s+1)(s+k)} = \\frac{a(s+k)+b(s+1)}{(s+1)(s+k)} $$\n",
    "### Another way to do this, that is more fun, is the “cover-up\" method. Here's how that works: to find $a$, multiply the entire equation $\\displaystyle \\frac{k}{(s+1)(s+k)} = \\frac{a}{s+1} + \\frac{b}{s+k}$ by $(s+1)$ and set $s=-1$. So\n",
    "## $$ \\frac{k}{s+k} = a + (s+1)\\frac{b}{s+k} $$\n",
    "### becomes\n",
    "## $$ \\frac{k}{-1+k} = a $$\n",
    "### so $\\displaystyle a = \\frac{k}{k-1}$. Informally, we “covered up\" the factor $s+1$ in the denominators, and the term not involving it in the denominator, and get an equation for the coefficient. We can do this calculation without writing by taking the expression $\\displaystyle \\frac{k}{(s+1)(s+k)}$ and “covering up\" the $(s+1)$ and substituting $s=-1$ in the remaining expression. That is, cover-up gives $\\displaystyle \\frac{k}{s+k}$. Then, substitution gives $\\displaystyle \\frac{k}{-1+k}$.\n",
    "\n",
    "### Similarly, to find $b$, multiply through by $s+k$ and set $s=-k$:\n",
    "## $$ \\frac{k}{s+1} = (s+k)\\frac{a}{s+1}+b $$\n",
    "### becomes\n",
    "## $$ \\frac{k}{-k+1} = b $$\n",
    "### so $\\displaystyle b = \\frac{-k}{k-1}$.\n",
    "\n",
    "### Putting these back into the equation gives\n",
    "## $$ \\frac{k}{(s+1)(s+k)} = \\frac{k}{k-1}\\left(\\frac{1}{s+1}-\\frac{1}{s+k}\\right) $$\n",
    "### The payoff is that it's easy to recognize this as the Laplace transform of a function. By linearity and using the known Laplace transform for an exponential function:\n",
    "## $$ \\frac{e^{-t}-e^{-kt}}{k-1} \\rightsquigarrow \\frac{1}{(s+1)(s+k)} $$\n",
    "### Putting all this together, using linearity as usual, we find that\n",
    "## $$ x(t) = x(0) e^{-kt}+\\frac{k}{k-1}(e^{-t}-e^{-kt}) $$\n",
    "### The presence of $k-1$ in the denominator confirms that the case $k=1$ has to be treated separately. We will explain how to do that in a later section.\n",
    "\n",
    "### Note the structure of this expression: The term $\\displaystyle \\frac{k}{k-1} e^{-t}$ is the “steady state,\" the exponential response given by the ERF. The two terms involving $e^{-kt}$ together form the transient required to produce the given initial condition. One of these terms has the effect of canceling the initial value of the $\\displaystyle \\frac{k}{k-1}e^{-t}$ term, and other imposes the desired initial value."
   ]
  },
  {
   "cell_type": "markdown",
   "id": "93044aed-f155-4190-8fd5-6adb4a013690",
   "metadata": {},
   "source": [
    "### ***Recap***\n",
    "### To recap, in this example we did the following:\n",
    "![img](img/recap.png)\n",
    "\n",
    "### The inverse Laplace transform involved using partial fractions to write the algebraic equation in a form that we could look up the inverse Laplace function easily because we could recognize it as the Laplace transform of an exponential function.\n",
    "### Of course we could have found this result using the ERF and finding the appropriate transient. The Laplace transform gives us another tool for solving differential equations. More importantly, we will see that it provides a connection to the transfer function of any LTI system."
   ]
  },
  {
   "cell_type": "markdown",
   "id": "24132724-a448-4281-852b-15a1778abf3a",
   "metadata": {},
   "source": []
  }
 ],
 "metadata": {
  "kernelspec": {
   "display_name": "Python 3",
   "language": "python",
   "name": "python3"
  },
  "language_info": {
   "codemirror_mode": {
    "name": "ipython",
    "version": 3
   },
   "file_extension": ".py",
   "mimetype": "text/x-python",
   "name": "python",
   "nbconvert_exporter": "python",
   "pygments_lexer": "ipython3",
   "version": "3.8.8"
  }
 },
 "nbformat": 4,
 "nbformat_minor": 5
}
