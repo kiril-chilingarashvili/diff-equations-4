{
 "cells": [
  {
   "cell_type": "markdown",
   "id": "8ec336f4-579e-4806-a3c9-bfb0029a0e6a",
   "metadata": {},
   "source": [
    "# Unit 3: Step and Impulse Response and Feedback, Part b - Delta functions and unit impulse response "
   ]
  },
  {
   "cell_type": "markdown",
   "id": "6d84817c-9c68-4b1c-b38a-a995660ca79b",
   "metadata": {},
   "source": [
    "## L9.2. The derivative of the unit step function.\n",
    "\n",
    "### Consider the unit step function\n",
    "## $$ u(t) = \\left\\{ \\begin{array} {rcl} 0 & & t < 0 \\\\ 1 & & t > 0 \\end{array} \\right. $$\n",
    "### In calculus you would say that the unit step function $u(t)$ is non-differentiable at $t=0$; it's not even continuous there. But we need to talk about its derivative. Here are two examples of how this shows up.\n",
    "\n",
    "### 1. A bank account is modeled by the equation\n",
    "## $$ \\dot{x} - Ix = q(t) $$\n",
    " \n",
    "###    where $I$ is the interest rate, and $q(t)$ is the net rate of deposit. One day you deposit a large amount of money. This total deposit is best modeled by a step function. Thus the deposit rate $q(t)$ is best modeled by the derivative of this step function.\n",
    "\n",
    "### 2. Suppose we give a soccer ball a good swift kick. Its velocity increases abruptly from $v=0$ to a positive value $v_0$. The velocity function can be modeled by $v(t) = v_0 u(t)$. What can we say about the force applied by my foot?\n",
    "\n",
    "###    Force is the time rate of change of momentum. Momentum is mass times velocity, so it's given by $m v(t) = m v_0 u(t)$. So the force is the derivative of $m v_0 u(t)$.\n",
    "\n",
    "### While the ideal step function has no derivative, our treatment of the step function lets us deal with its derivative.\n",
    "\n",
    "### We saw that in reality the unit step function is an idealization of a smooth function that increases in value from 0 to 1 in a very short period of time. Viewed in that light, the derivative of $u(t)$ is easy to picture. Expanding the $t$ axis so we can see how $u(t)$ increases in value from 0 to 1, we get a graph like this:\n",
    "![img](img/s51.png)\n",
    "\n",
    "### The derivative $\\dot{u}(t)$ will then have a graph that looks like this:\n",
    "![img](img/s52.png)\n",
    "\n",
    "### Since $u(t)$ increases in value by 1, the area under the graph of $\\dot{u}(t)$ is 1. It's a very narrow tall spike. The same kind of idealization that we used to replace the smooth function of $u(t)$ with the Heaviside step function leads to the ***Dirac delta function***\n",
    "## $$ \\delta(t) = \\dot{u}(t) $$\n",
    " \n",
    "### The delta function is secretly just a smooth function which takes on nonzero values only in a neighborhood of 0 that is too small for us to resolve, and has total integral 1.\n",
    "\n",
    "### When we graph it, we will denote the delta function by a “harpoon.\"\n",
    "![img](img/s53.png)\n",
    "\n",
    "### Since we can't picture the area under the harpoon, we'll indicate the area by a number next to it. We can also shift the delta function by $a$ units to the right and scale it by $c$, to get\n",
    "## $$ \\frac{d}{dt} c u(t-a) = c \\dot{u}(t-a) = c \\delta(t-a) $$\n",
    " \n",
    "### Its graph looks like this:\n",
    "![img](img/s54.png)\n",
    "\n",
    "### ***Food for thought***: How would you graph $-2\\delta(t-1)$?\n",
    "\n",
    "### ***Conventions***\n",
    "\n",
    "### While you might decide to draw a upwards arrow at $t=1$ with a $-2$ to decorate it indicating a value of $-2$ for the integral, it is more common to draw a downwards pointing arrow, decorated with a positive $2$.\n",
    "![img](img/s55.png)\n",
    "\n",
    "### However, note that in the image below, we do not require that the constant $c$ be positive.\n",
    "![img](img/s56.png)\n",
    "\n",
    "### Instead, we allow the possibility that $c$ be negative, but keep the convention of drawing the delta function pointing upwards. If we know that $c$ is negative, we instead draw the delta function pointing downwards as is the convention in this course."
   ]
  },
  {
   "cell_type": "markdown",
   "id": "f6b7640a-2846-43f6-8282-614ea94e097f",
   "metadata": {},
   "source": [
    "## L9.3. The integral of the delta function.\n",
    "\n",
    "### Now, how do we compute the Laplace transform of the delta function?\n",
    "\n",
    "### The $\\delta$ function has a special relationship with integration. Fix a number $a$, and let $f(t)$ be any function that is continuous at $a$. Then, for any numbers $b$ and $a$ such that $b<a<c$,\n",
    "## $$ \\int_b^c \\delta(t-a) f(t) dt = f(a) $$\n",
    " \n",
    "### To see this just remember that $\\delta(t-a)$ is zero except very near to $a$, and near to $a$ it becomes very large with area 1. Its graph looks like a very tall rectangle. Since $f(t)$ is continuous at $a$, the values of $f(t)$ near $a$ are very near to $f(a)$. So the graph of $\\delta(t-a)f(t)$ is also a very narrow rectangle that is $f(a)$ times taller than the one for the delta function alone. Hence, the area under $\\delta(t-a)f(t)$ is $f(a)$.\n",
    "\n",
    "### This formula implies other similar formulas. For example\n",
    "## $$ \\int_\\infty^\\infty \\delta(t-a) f(t) dt = f(a) $$\n",
    "\n",
    "### and\n",
    "## $$ \\int_{a^-}^{a^+}\\delta(t-a) f(t) = f(a) $$\n",
    " \n",
    "### These formulas reflect the actual practice of measuring the value of a function. When you measure voltage, or current, or position, or temperature, you can't make an ***instantaneous*** measurement. Your instrument accumulates the effect of the quantity you are measuring over some small time interval – milliseconds if your time scale is in seconds – and averages over that small interval. This averaging process, heavily weighting the values near $t=a$, is precisely the process of forming the integral\n",
    "## $$ \\int_b^c \\delta(t-a) f(t) dt $$\n",
    " \n",
    "### as above!\n",
    "\n",
    "### This expression for the integral of $\\delta(t-a) f(t)$ is a characteristic property of the $\\delta$ function, and is the basis for more of a sophisticated development of the theory of “distributions\", which covers the delta function and much more."
   ]
  },
  {
   "cell_type": "markdown",
   "id": "a49312bf-8074-4cfb-b12d-2af15a0de85c",
   "metadata": {},
   "source": []
  }
 ],
 "metadata": {
  "kernelspec": {
   "display_name": "Python 3",
   "language": "python",
   "name": "python3"
  },
  "language_info": {
   "codemirror_mode": {
    "name": "ipython",
    "version": 3
   },
   "file_extension": ".py",
   "mimetype": "text/x-python",
   "name": "python",
   "nbconvert_exporter": "python",
   "pygments_lexer": "ipython3",
   "version": "3.8.8"
  }
 },
 "nbformat": 4,
 "nbformat_minor": 5
}
