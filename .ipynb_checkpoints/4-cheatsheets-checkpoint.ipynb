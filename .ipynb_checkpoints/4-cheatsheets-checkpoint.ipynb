{
 "cells": [
  {
   "cell_type": "markdown",
   "id": "23157eee-549e-42c4-8fc4-c8bc4819f269",
   "metadata": {},
   "source": [
    "# Unit 4: Convolution"
   ]
  },
  {
   "cell_type": "markdown",
   "id": "80961915-3970-47b4-beaf-4addf201614f",
   "metadata": {},
   "source": [
    "### L11.2. Why convolution?\n",
    "\n",
    "### We have learned to determine the system response of LTI systems by using the Laplace transform to convert the problem to a simple algebraic relation in the frequency domain. This is effective, and this method reveals important features of the system response, especially about its long term behavior.\n",
    "\n",
    "### This method depends on the observation that the system function $H(s)$ is the Laplace transform of the unit impulse response (or “weight function\") $h(t)$. This implies that the Laplace transform of the system response (with rest initial conditions) to an input signal $f(t)$ is simply the product\n",
    "## $$ X(s) = H(s) = F(s) $$\n",
    " \n",
    "### In this lecture we will analyze the relationship between the unit impulse response, the input signal, and the system response (with rest initial conditions) directly in the time domain. The result can be written as\n",
    "## $$ x(t) = h(t) * f(t) $$\n",
    " \n",
    "### where the asterisk denotes a new “product operation\" on signals, known as ***convolution***.\n",
    "\n",
    "### So one way to define convolution is by means of the Laplace transform:\n",
    "## $$ \\mathcal{L}(h(t) * f(t); s) = H(s) F(s) $$\n",
    " \n",
    "### Here $h(t)$ and $f(t)$ can be pretty much any pair of signals."
   ]
  },
  {
   "cell_type": "markdown",
   "id": "4870676c-63ab-43fe-8469-192fbf462d13",
   "metadata": {},
   "source": []
  }
 ],
 "metadata": {
  "kernelspec": {
   "display_name": "Python 3",
   "language": "python",
   "name": "python3"
  },
  "language_info": {
   "codemirror_mode": {
    "name": "ipython",
    "version": 3
   },
   "file_extension": ".py",
   "mimetype": "text/x-python",
   "name": "python",
   "nbconvert_exporter": "python",
   "pygments_lexer": "ipython3",
   "version": "3.8.8"
  }
 },
 "nbformat": 4,
 "nbformat_minor": 5
}
