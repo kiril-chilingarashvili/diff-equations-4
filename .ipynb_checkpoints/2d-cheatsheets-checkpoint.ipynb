{
 "cells": [
  {
   "cell_type": "markdown",
   "id": "bffb03f9-ef75-4fc2-bd49-5143b619c0f6",
   "metadata": {},
   "source": [
    "# Unit 2: Laplace transform, Part d - Block diagrams and impedance"
   ]
  },
  {
   "cell_type": "markdown",
   "id": "1bdefd03-089f-4b8c-936b-3b53de243240",
   "metadata": {},
   "source": [
    "## L7.2. Block diagrams.\n",
    "\n",
    "### Engineers build complex systems by combining simpler ones. This process is recorded by the symbolism of ***block diagrams***.\n",
    "\n",
    "### A system acts on the input signal to produce the system response. To be precise, one should specify initial conditions as well, but\n",
    "### 1. These are often implied by an assumption – of steady state or of zero initial conditions; and\n",
    "### 2. They do not matter much anyway if the system is stable.\n",
    "\n",
    "### So they are ignored in the block diagram notation.\n",
    "### In the time domain we can represent the input signal $y$, system $S$, and the system response $x$, by the following diagram.\n",
    "![img](img/diag1.png)\n",
    "\n",
    "### We can convert this to the frequency domain by applying Laplace transform to the variables $x$ and $y$. What happens to the system? It gets represented by its transfer function:\n",
    "![img](img/diag2.png)\n",
    "\n",
    "### In the $s$-domain,\n",
    "## $$ {\\color{orange}{X(s)}} = H(s) {\\color{blue}{Y(s)}} $$\n",
    "### In the frequency domain, the effect of the system is simply to multiply by the transfer function.\n",
    "\n",
    "### This makes it easy to explain what happens if you “cascade\" two system: feed a second system (with transfer function $G(s)$, say), as input signal, the output signal of a first system (with transfer function $H(s)$):\n",
    "![img](img/diag3.png)\n",
    "\n",
    "### The cascade is another LTI system, with its own transfer function, and we have just seen that the transfer function of this new system is just the product $G(s)H(s)$.\n",
    "\n",
    "### This observation has the following amazing consequence: The order in which you cascade is immaterial! Feeding the output from system 1 into system 2 has the same effect as feeding the output of system 2 into system 1. And both of these are equivalent to the the following block diagram with a single block whose entry is the product of the two cascaded blocks.\n",
    "![img](img/diag4.png)\n",
    "\n",
    "### That is\n",
    "## $$ X(s) = G(s) (H(s)Y(s)) \\quad \\text{and} \\quad X(s) = H(s) (G(s)Y(s)) $$\n",
    "### or equivalently,\n",
    "## $$ X(s) = (H(s) G(s))Y(s) $$\n"
   ]
  },
  {
   "cell_type": "markdown",
   "id": "8da2b57d-ed0f-476f-be7d-252ed4065c0e",
   "metadata": {},
   "source": []
  }
 ],
 "metadata": {
  "kernelspec": {
   "display_name": "Python 3",
   "language": "python",
   "name": "python3"
  },
  "language_info": {
   "codemirror_mode": {
    "name": "ipython",
    "version": 3
   },
   "file_extension": ".py",
   "mimetype": "text/x-python",
   "name": "python",
   "nbconvert_exporter": "python",
   "pygments_lexer": "ipython3",
   "version": "3.8.8"
  }
 },
 "nbformat": 4,
 "nbformat_minor": 5
}
